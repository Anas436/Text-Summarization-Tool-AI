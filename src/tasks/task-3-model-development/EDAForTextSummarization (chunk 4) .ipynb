{
 "cells": [
  {
   "cell_type": "markdown",
   "id": "ArzKfOP9jSUZ",
   "metadata": {
    "id": "ArzKfOP9jSUZ"
   },
   "source": [
    "# Making required libraries download"
   ]
  },
  {
   "cell_type": "code",
   "execution_count": null,
   "id": "GkfOw3HRiQqZ",
   "metadata": {
    "id": "GkfOw3HRiQqZ"
   },
   "outputs": [],
   "source": [
    "#pip install pyldavis"
   ]
  },
  {
   "cell_type": "markdown",
   "id": "TPcUAtJ9jZlL",
   "metadata": {
    "id": "TPcUAtJ9jZlL"
   },
   "source": [
    "# Importing the libraires"
   ]
  },
  {
   "cell_type": "code",
   "execution_count": 12,
   "id": "33f3bdb7",
   "metadata": {
    "id": "33f3bdb7"
   },
   "outputs": [
    {
     "name": "stderr",
     "output_type": "stream",
     "text": [
      "[nltk_data] Downloading package punkt to C:\\Users\\ARU\n",
      "[nltk_data]     PC\\AppData\\Roaming\\nltk_data...\n",
      "[nltk_data]   Package punkt is already up-to-date!\n",
      "[nltk_data] Downloading package stopwords to C:\\Users\\ARU\n",
      "[nltk_data]     PC\\AppData\\Roaming\\nltk_data...\n",
      "[nltk_data]   Package stopwords is already up-to-date!\n",
      "[nltk_data] Downloading package averaged_perceptron_tagger to\n",
      "[nltk_data]     C:\\Users\\ARU PC\\AppData\\Roaming\\nltk_data...\n",
      "[nltk_data]   Unzipping taggers\\averaged_perceptron_tagger.zip.\n",
      "[nltk_data] Downloading package universal_tagset to C:\\Users\\ARU\n",
      "[nltk_data]     PC\\AppData\\Roaming\\nltk_data...\n",
      "[nltk_data]   Unzipping taggers\\universal_tagset.zip.\n"
     ]
    }
   ],
   "source": [
    "import numpy as np\n",
    "import pandas as pd\n",
    "import spacy\n",
    "import nltk\n",
    "\n",
    "pd.set_option('display.max_columns', 20)\n",
    "import matplotlib.pyplot as plt\n",
    "import seaborn as sns\n",
    "from wordcloud import WordCloud\n",
    "from collections import Counter\n",
    "from nltk.corpus import stopwords\n",
    "from nltk.tokenize import word_tokenize\n",
    "nltk.download('punkt')\n",
    "nltk.download('stopwords')\n",
    "nltk.download('averaged_perceptron_tagger')\n",
    "nltk.download('universal_tagset')\n",
    "import string\n",
    "import gensim.downloader as api\n",
    "from sklearn.feature_extraction.text import CountVectorizer\n",
    "from sklearn.decomposition import LatentDirichletAllocation"
   ]
  },
  {
   "cell_type": "markdown",
   "id": "xOvwKXGOjd7d",
   "metadata": {
    "id": "xOvwKXGOjd7d"
   },
   "source": [
    "# Downloading required nltk packages"
   ]
  },
  {
   "cell_type": "code",
   "execution_count": 2,
   "id": "EKbzQkn0jRSm",
   "metadata": {
    "id": "EKbzQkn0jRSm"
   },
   "outputs": [
    {
     "name": "stderr",
     "output_type": "stream",
     "text": [
      "[nltk_data] Downloading package punkt to C:\\Users\\ARU\n",
      "[nltk_data]     PC\\AppData\\Roaming\\nltk_data...\n",
      "[nltk_data]   Package punkt is already up-to-date!\n",
      "[nltk_data] Downloading package wordnet to C:\\Users\\ARU\n",
      "[nltk_data]     PC\\AppData\\Roaming\\nltk_data...\n",
      "[nltk_data]   Package wordnet is already up-to-date!\n"
     ]
    },
    {
     "data": {
      "text/plain": [
       "True"
      ]
     },
     "execution_count": 2,
     "metadata": {},
     "output_type": "execute_result"
    }
   ],
   "source": [
    "nltk.download('punkt')\n",
    "nltk.download('wordnet')"
   ]
  },
  {
   "cell_type": "markdown",
   "id": "yncRynX_jlvF",
   "metadata": {
    "id": "yncRynX_jlvF"
   },
   "source": [
    "# Downloading dataset"
   ]
  },
  {
   "cell_type": "code",
   "execution_count": 4,
   "id": "MZFY4p0zbSGx",
   "metadata": {
    "colab": {
     "base_uri": "https://localhost:8080/"
    },
    "id": "MZFY4p0zbSGx",
    "outputId": "9ff8cb66-da26-4172-df61-39d6309b6091"
   },
   "outputs": [],
   "source": [
    "df = pd.read_csv('chunk4.csv')"
   ]
  },
  {
   "cell_type": "code",
   "execution_count": 5,
   "id": "7a6353a2",
   "metadata": {
    "colab": {
     "base_uri": "https://localhost:8080/"
    },
    "id": "7a6353a2",
    "outputId": "994b6a43-ad8b-47c9-a8ef-2787a0450701"
   },
   "outputs": [],
   "source": [
    "#df = pd.read_csv('/content/chunk4.csv')\n",
    "#url='https://drive.google.com/file/d/1BhGhwcCkJQPnEGFzvGnbn2t6GC3o6t1J/view?usp=drive_link'\n",
    "#url='https://drive.google.com/uc?id=' + url.split('/')[-2]\n",
    "#df = pd.read_csv(url)\n",
    "df = df.head(100)"
   ]
  },
  {
   "cell_type": "code",
   "execution_count": 6,
   "id": "2bea82cd",
   "metadata": {
    "colab": {
     "base_uri": "https://localhost:8080/"
    },
    "id": "2bea82cd",
    "outputId": "0e11d31d-5012-4e49-91f9-87a544c319c6"
   },
   "outputs": [
    {
     "data": {
      "text/plain": [
       "article    0\n",
       "summary    0\n",
       "dtype: int64"
      ]
     },
     "execution_count": 6,
     "metadata": {},
     "output_type": "execute_result"
    }
   ],
   "source": [
    "df.isnull().sum()"
   ]
  },
  {
   "cell_type": "markdown",
   "id": "wjKdEWl7iRgf",
   "metadata": {
    "id": "wjKdEWl7iRgf"
   },
   "source": [
    "# Converting article and summary columns to lower case, as NLP models are case sensitive."
   ]
  },
  {
   "cell_type": "code",
   "execution_count": 7,
   "id": "KFGbmCbwhNnw",
   "metadata": {
    "colab": {
     "base_uri": "https://localhost:8080/",
     "height": 262
    },
    "id": "KFGbmCbwhNnw",
    "outputId": "a09198dd-3e8f-4319-80a0-28806491eb2f"
   },
   "outputs": [
    {
     "data": {
      "text/html": [
       "<div>\n",
       "<style scoped>\n",
       "    .dataframe tbody tr th:only-of-type {\n",
       "        vertical-align: middle;\n",
       "    }\n",
       "\n",
       "    .dataframe tbody tr th {\n",
       "        vertical-align: top;\n",
       "    }\n",
       "\n",
       "    .dataframe thead th {\n",
       "        text-align: right;\n",
       "    }\n",
       "</style>\n",
       "<table border=\"1\" class=\"dataframe\">\n",
       "  <thead>\n",
       "    <tr style=\"text-align: right;\">\n",
       "      <th></th>\n",
       "      <th>article</th>\n",
       "      <th>summary</th>\n",
       "    </tr>\n",
       "  </thead>\n",
       "  <tbody>\n",
       "    <tr>\n",
       "      <th>0</th>\n",
       "      <td>by . emma reynolds . published: . 03:22 est, 4...</td>\n",
       "      <td>patrick lanzo horrified the community with a s...</td>\n",
       "    </tr>\n",
       "    <tr>\n",
       "      <th>1</th>\n",
       "      <td>by . james chapman . david cameron has ordered...</td>\n",
       "      <td>exclusive: senior tories examining plan to for...</td>\n",
       "    </tr>\n",
       "    <tr>\n",
       "      <th>2</th>\n",
       "      <td>by . john hall . published: . 04:27 est, 4 feb...</td>\n",
       "      <td>coding-error redirects thousands of nhs users ...</td>\n",
       "    </tr>\n",
       "    <tr>\n",
       "      <th>3</th>\n",
       "      <td>by . daily mail reporter . published: . 01:50 ...</td>\n",
       "      <td>city éclair, a bakery in new york's little ita...</td>\n",
       "    </tr>\n",
       "    <tr>\n",
       "      <th>4</th>\n",
       "      <td>(cnn) -- when former los angeles police office...</td>\n",
       "      <td>some 50 families had to be protected during th...</td>\n",
       "    </tr>\n",
       "  </tbody>\n",
       "</table>\n",
       "</div>"
      ],
      "text/plain": [
       "                                             article  \\\n",
       "0  by . emma reynolds . published: . 03:22 est, 4...   \n",
       "1  by . james chapman . david cameron has ordered...   \n",
       "2  by . john hall . published: . 04:27 est, 4 feb...   \n",
       "3  by . daily mail reporter . published: . 01:50 ...   \n",
       "4  (cnn) -- when former los angeles police office...   \n",
       "\n",
       "                                             summary  \n",
       "0  patrick lanzo horrified the community with a s...  \n",
       "1  exclusive: senior tories examining plan to for...  \n",
       "2  coding-error redirects thousands of nhs users ...  \n",
       "3  city éclair, a bakery in new york's little ita...  \n",
       "4  some 50 families had to be protected during th...  "
      ]
     },
     "execution_count": 7,
     "metadata": {},
     "output_type": "execute_result"
    }
   ],
   "source": [
    "df1_lower = df.copy()\n",
    "df1_lower[['article','summary']] = df[['article','summary']].applymap(lambda x: x.lower())\n",
    "df1_lower.head()"
   ]
  },
  {
   "cell_type": "markdown",
   "id": "2M5wARNUix1n",
   "metadata": {
    "id": "2M5wARNUix1n"
   },
   "source": [
    "# Preparing Text Data for Exploratory Data Analysis (EDA)"
   ]
  },
  {
   "cell_type": "markdown",
   "id": "3tNjFlTkjl_Y",
   "metadata": {
    "id": "3tNjFlTkjl_Y"
   },
   "source": [
    "**Stopwords removal**"
   ]
  },
  {
   "cell_type": "code",
   "execution_count": 8,
   "id": "PVmA786pk55c",
   "metadata": {
    "colab": {
     "base_uri": "https://localhost:8080/",
     "height": 611
    },
    "id": "PVmA786pk55c",
    "outputId": "9263eab9-c51e-4e19-d109-ad2ad0ebbb7c"
   },
   "outputs": [
    {
     "data": {
      "text/html": [
       "<div>\n",
       "<style scoped>\n",
       "    .dataframe tbody tr th:only-of-type {\n",
       "        vertical-align: middle;\n",
       "    }\n",
       "\n",
       "    .dataframe tbody tr th {\n",
       "        vertical-align: top;\n",
       "    }\n",
       "\n",
       "    .dataframe thead th {\n",
       "        text-align: right;\n",
       "    }\n",
       "</style>\n",
       "<table border=\"1\" class=\"dataframe\">\n",
       "  <thead>\n",
       "    <tr style=\"text-align: right;\">\n",
       "      <th></th>\n",
       "      <th>article</th>\n",
       "      <th>summary</th>\n",
       "      <th>lemmatized_article</th>\n",
       "      <th>lemmatized_asummary</th>\n",
       "    </tr>\n",
       "  </thead>\n",
       "  <tbody>\n",
       "    <tr>\n",
       "      <th>0</th>\n",
       "      <td>by . emma reynolds . published: . 03:22 est, 4...</td>\n",
       "      <td>patrick lanzo horrified the community with a s...</td>\n",
       "      <td>. emma reynolds . publish : . 03:22 est , 4 20...</td>\n",
       "      <td>patrick lanzo horrify community similar sign b...</td>\n",
       "    </tr>\n",
       "    <tr>\n",
       "      <th>1</th>\n",
       "      <td>by . james chapman . david cameron has ordered...</td>\n",
       "      <td>exclusive: senior tories examining plan to for...</td>\n",
       "      <td>. james chapman . david cameron order tory pub...</td>\n",
       "      <td>exclusive : senior tory examine plan form gove...</td>\n",
       "    </tr>\n",
       "    <tr>\n",
       "      <th>2</th>\n",
       "      <td>by . john hall . published: . 04:27 est, 4 feb...</td>\n",
       "      <td>coding-error redirects thousands of nhs users ...</td>\n",
       "      <td>. john hall . publish : . 04:27 est , 4 februa...</td>\n",
       "      <td>code - error redirect thousand nhs user fraudu...</td>\n",
       "    </tr>\n",
       "    <tr>\n",
       "      <th>3</th>\n",
       "      <td>by . daily mail reporter . published: . 01:50 ...</td>\n",
       "      <td>city éclair, a bakery in new york's little ita...</td>\n",
       "      <td>. daily mail reporter . publish : . 01:50 est ...</td>\n",
       "      <td>city éclair , bakery new york little italy , a...</td>\n",
       "    </tr>\n",
       "    <tr>\n",
       "      <th>4</th>\n",
       "      <td>(cnn) -- when former los angeles police office...</td>\n",
       "      <td>some 50 families had to be protected during th...</td>\n",
       "      <td>( cnn ) -- los angeles police officer christop...</td>\n",
       "      <td>50 family protect manhunt christopher dorner ....</td>\n",
       "    </tr>\n",
       "    <tr>\n",
       "      <th>...</th>\n",
       "      <td>...</td>\n",
       "      <td>...</td>\n",
       "      <td>...</td>\n",
       "      <td>...</td>\n",
       "    </tr>\n",
       "    <tr>\n",
       "      <th>95</th>\n",
       "      <td>by . william turvill . published: . 04:44 est,...</td>\n",
       "      <td>wayne kinvig, from burnley, lancashire, preyed...</td>\n",
       "      <td>. william turvill . publish : . 04:44 est , 3 ...</td>\n",
       "      <td>wayne kinvig , burnley , lancashire , prey vic...</td>\n",
       "    </tr>\n",
       "    <tr>\n",
       "      <th>96</th>\n",
       "      <td>by . wills robinson and ryan gorman . publishe...</td>\n",
       "      <td>orien hamilton died after being taken to hospi...</td>\n",
       "      <td>. will robinson ryan gorman . publish : . 20:5...</td>\n",
       "      <td>orien hamilton die take hospital severe head i...</td>\n",
       "    </tr>\n",
       "    <tr>\n",
       "      <th>97</th>\n",
       "      <td>by . chris parsons . last updated at 6:05 pm o...</td>\n",
       "      <td>miss greening claimed for two journeys across ...</td>\n",
       "      <td>. chris parson . update 6:05 pm 2nd march 2012...</td>\n",
       "      <td>miss greening claim journey south london behal...</td>\n",
       "    </tr>\n",
       "    <tr>\n",
       "      <th>98</th>\n",
       "      <td>(cnn)kayla mueller was difficult to reach -- 6...</td>\n",
       "      <td>u.s. troops made a rescue effort in july but d...</td>\n",
       "      <td>( cnn)kayla mueller difficult reach -- 6,000 m...</td>\n",
       "      <td>u.s . troop rescue effort july find mueller ho...</td>\n",
       "    </tr>\n",
       "    <tr>\n",
       "      <th>99</th>\n",
       "      <td>(cnn) -- if you're on facebook, twitter or any...</td>\n",
       "      <td>the fbi reports nearly 3,200 account hijacking...</td>\n",
       "      <td>( cnn ) -- facebook , twitter social networkin...</td>\n",
       "      <td>fbi report nearly 3,200 account hijacking case...</td>\n",
       "    </tr>\n",
       "  </tbody>\n",
       "</table>\n",
       "<p>100 rows × 4 columns</p>\n",
       "</div>"
      ],
      "text/plain": [
       "                                              article  \\\n",
       "0   by . emma reynolds . published: . 03:22 est, 4...   \n",
       "1   by . james chapman . david cameron has ordered...   \n",
       "2   by . john hall . published: . 04:27 est, 4 feb...   \n",
       "3   by . daily mail reporter . published: . 01:50 ...   \n",
       "4   (cnn) -- when former los angeles police office...   \n",
       "..                                                ...   \n",
       "95  by . william turvill . published: . 04:44 est,...   \n",
       "96  by . wills robinson and ryan gorman . publishe...   \n",
       "97  by . chris parsons . last updated at 6:05 pm o...   \n",
       "98  (cnn)kayla mueller was difficult to reach -- 6...   \n",
       "99  (cnn) -- if you're on facebook, twitter or any...   \n",
       "\n",
       "                                              summary  \\\n",
       "0   patrick lanzo horrified the community with a s...   \n",
       "1   exclusive: senior tories examining plan to for...   \n",
       "2   coding-error redirects thousands of nhs users ...   \n",
       "3   city éclair, a bakery in new york's little ita...   \n",
       "4   some 50 families had to be protected during th...   \n",
       "..                                                ...   \n",
       "95  wayne kinvig, from burnley, lancashire, preyed...   \n",
       "96  orien hamilton died after being taken to hospi...   \n",
       "97  miss greening claimed for two journeys across ...   \n",
       "98  u.s. troops made a rescue effort in july but d...   \n",
       "99  the fbi reports nearly 3,200 account hijacking...   \n",
       "\n",
       "                                   lemmatized_article  \\\n",
       "0   . emma reynolds . publish : . 03:22 est , 4 20...   \n",
       "1   . james chapman . david cameron order tory pub...   \n",
       "2   . john hall . publish : . 04:27 est , 4 februa...   \n",
       "3   . daily mail reporter . publish : . 01:50 est ...   \n",
       "4   ( cnn ) -- los angeles police officer christop...   \n",
       "..                                                ...   \n",
       "95  . william turvill . publish : . 04:44 est , 3 ...   \n",
       "96  . will robinson ryan gorman . publish : . 20:5...   \n",
       "97  . chris parson . update 6:05 pm 2nd march 2012...   \n",
       "98  ( cnn)kayla mueller difficult reach -- 6,000 m...   \n",
       "99  ( cnn ) -- facebook , twitter social networkin...   \n",
       "\n",
       "                                  lemmatized_asummary  \n",
       "0   patrick lanzo horrify community similar sign b...  \n",
       "1   exclusive : senior tory examine plan form gove...  \n",
       "2   code - error redirect thousand nhs user fraudu...  \n",
       "3   city éclair , bakery new york little italy , a...  \n",
       "4   50 family protect manhunt christopher dorner ....  \n",
       "..                                                ...  \n",
       "95  wayne kinvig , burnley , lancashire , prey vic...  \n",
       "96  orien hamilton die take hospital severe head i...  \n",
       "97  miss greening claim journey south london behal...  \n",
       "98  u.s . troop rescue effort july find mueller ho...  \n",
       "99  fbi report nearly 3,200 account hijacking case...  \n",
       "\n",
       "[100 rows x 4 columns]"
      ]
     },
     "execution_count": 8,
     "metadata": {},
     "output_type": "execute_result"
    }
   ],
   "source": [
    "# Loading model\n",
    "nlp = spacy.load('en_core_web_sm',disable=['parser', 'ner'])\n",
    "\n",
    "# Lemmatization with stopwords removal\n",
    "df1_lower['lemmatized_article']=df1_lower['article'].apply(lambda x: ' '.join([token.lemma_ for token in list(nlp(x)) if (token.is_stop==False)]))\n",
    "df1_lower['lemmatized_asummary']=df1_lower['summary'].apply(lambda x: ' '.join([token.lemma_ for token in list(nlp(x)) if (token.is_stop==False)]))\n",
    "df1_lower"
   ]
  },
  {
   "cell_type": "markdown",
   "id": "fe7102ee",
   "metadata": {},
   "source": [
    "# Features Extraction"
   ]
  },
  {
   "cell_type": "code",
   "execution_count": 9,
   "id": "bdb22674",
   "metadata": {},
   "outputs": [],
   "source": [
    "#helper funtion to count the number of stopwords\n",
    "def count_stopwords(text, stopwords):\n",
    "    \"\"\"\n",
    "    Count the number of stopwords in a given text.\n",
    "\n",
    "    Args:\n",
    "        text (str): The input text to analyze.\n",
    "        stopwords (list): A list of stopwords.\n",
    "\n",
    "    Returns:\n",
    "        int: The count of stopwords in the text.\n",
    "    \"\"\"\n",
    "    word_tokens = word_tokenize(text)\n",
    "    stop_words = [word for word in word_tokens if word in stopwords]\n",
    "    return len(stop_words)\n"
   ]
  },
  {
   "cell_type": "code",
   "execution_count": 10,
   "id": "0f7eaa1a",
   "metadata": {},
   "outputs": [],
   "source": [
    "#helper function to split a text into sentences\n",
    "def split_sentences(text):\n",
    "    \"\"\"\n",
    "    Split a text into sentences using NLTK's sentence tokenizer.\n",
    "\n",
    "    Args:\n",
    "        text (str): The input text to split.\n",
    "\n",
    "    Returns:\n",
    "        list: A list of sentences in the text.\n",
    "    \"\"\"\n",
    "    sentences = nltk.sent_tokenize(text)\n",
    "    return sentences"
   ]
  },
  {
   "cell_type": "code",
   "execution_count": 13,
   "id": "8c82d9a7",
   "metadata": {},
   "outputs": [
    {
     "data": {
      "text/html": [
       "<div>\n",
       "<style scoped>\n",
       "    .dataframe tbody tr th:only-of-type {\n",
       "        vertical-align: middle;\n",
       "    }\n",
       "\n",
       "    .dataframe tbody tr th {\n",
       "        vertical-align: top;\n",
       "    }\n",
       "\n",
       "    .dataframe thead th {\n",
       "        text-align: right;\n",
       "    }\n",
       "</style>\n",
       "<table border=\"1\" class=\"dataframe\">\n",
       "  <thead>\n",
       "    <tr style=\"text-align: right;\">\n",
       "      <th></th>\n",
       "      <th>article</th>\n",
       "      <th>summary</th>\n",
       "      <th>lemmatized_article</th>\n",
       "      <th>lemmatized_asummary</th>\n",
       "      <th>article_sentence_count</th>\n",
       "      <th>summary_sentence_count</th>\n",
       "      <th>article_word_count</th>\n",
       "      <th>summary_word_count</th>\n",
       "      <th>article_char_count</th>\n",
       "      <th>summary_char_count</th>\n",
       "      <th>article_word_density</th>\n",
       "      <th>summary_word_density</th>\n",
       "      <th>article_sentence_density</th>\n",
       "      <th>summary_sentence_density</th>\n",
       "      <th>article_punctuation_count</th>\n",
       "      <th>summary_punctuation_count</th>\n",
       "      <th>article_stopwords_count</th>\n",
       "      <th>summary_stopwords_count</th>\n",
       "      <th>article_stopwords_density</th>\n",
       "      <th>summary_stopwords_density</th>\n",
       "    </tr>\n",
       "  </thead>\n",
       "  <tbody>\n",
       "    <tr>\n",
       "      <th>0</th>\n",
       "      <td>by . emma reynolds . published: . 03:22 est, 4...</td>\n",
       "      <td>patrick lanzo horrified the community with a s...</td>\n",
       "      <td>. emma reynolds . publish : . 03:22 est , 4 20...</td>\n",
       "      <td>patrick lanzo horrify community similar sign b...</td>\n",
       "      <td>42</td>\n",
       "      <td>2</td>\n",
       "      <td>518</td>\n",
       "      <td>35</td>\n",
       "      <td>2495</td>\n",
       "      <td>170</td>\n",
       "      <td>0.207532</td>\n",
       "      <td>0.204678</td>\n",
       "      <td>0.080925</td>\n",
       "      <td>0.055556</td>\n",
       "      <td>148</td>\n",
       "      <td>4</td>\n",
       "      <td>204</td>\n",
       "      <td>12</td>\n",
       "      <td>0.393064</td>\n",
       "      <td>0.333333</td>\n",
       "    </tr>\n",
       "    <tr>\n",
       "      <th>1</th>\n",
       "      <td>by . james chapman . david cameron has ordered...</td>\n",
       "      <td>exclusive: senior tories examining plan to for...</td>\n",
       "      <td>. james chapman . david cameron order tory pub...</td>\n",
       "      <td>exclusive : senior tory examine plan form gove...</td>\n",
       "      <td>34</td>\n",
       "      <td>5</td>\n",
       "      <td>895</td>\n",
       "      <td>70</td>\n",
       "      <td>4509</td>\n",
       "      <td>309</td>\n",
       "      <td>0.198448</td>\n",
       "      <td>0.225806</td>\n",
       "      <td>0.037946</td>\n",
       "      <td>0.070423</td>\n",
       "      <td>86</td>\n",
       "      <td>7</td>\n",
       "      <td>379</td>\n",
       "      <td>20</td>\n",
       "      <td>0.422991</td>\n",
       "      <td>0.281690</td>\n",
       "    </tr>\n",
       "    <tr>\n",
       "      <th>2</th>\n",
       "      <td>by . john hall . published: . 04:27 est, 4 feb...</td>\n",
       "      <td>coding-error redirects thousands of nhs users ...</td>\n",
       "      <td>. john hall . publish : . 04:27 est , 4 februa...</td>\n",
       "      <td>code - error redirect thousand nhs user fraudu...</td>\n",
       "      <td>23</td>\n",
       "      <td>3</td>\n",
       "      <td>476</td>\n",
       "      <td>31</td>\n",
       "      <td>2434</td>\n",
       "      <td>184</td>\n",
       "      <td>0.195483</td>\n",
       "      <td>0.167568</td>\n",
       "      <td>0.048218</td>\n",
       "      <td>0.093750</td>\n",
       "      <td>70</td>\n",
       "      <td>4</td>\n",
       "      <td>192</td>\n",
       "      <td>9</td>\n",
       "      <td>0.402516</td>\n",
       "      <td>0.281250</td>\n",
       "    </tr>\n",
       "    <tr>\n",
       "      <th>3</th>\n",
       "      <td>by . daily mail reporter . published: . 01:50 ...</td>\n",
       "      <td>city éclair, a bakery in new york's little ita...</td>\n",
       "      <td>. daily mail reporter . publish : . 01:50 est ...</td>\n",
       "      <td>city éclair , bakery new york little italy , a...</td>\n",
       "      <td>24</td>\n",
       "      <td>3</td>\n",
       "      <td>331</td>\n",
       "      <td>58</td>\n",
       "      <td>1554</td>\n",
       "      <td>297</td>\n",
       "      <td>0.212862</td>\n",
       "      <td>0.194631</td>\n",
       "      <td>0.072289</td>\n",
       "      <td>0.050847</td>\n",
       "      <td>82</td>\n",
       "      <td>12</td>\n",
       "      <td>126</td>\n",
       "      <td>16</td>\n",
       "      <td>0.379518</td>\n",
       "      <td>0.271186</td>\n",
       "    </tr>\n",
       "    <tr>\n",
       "      <th>4</th>\n",
       "      <td>(cnn) -- when former los angeles police office...</td>\n",
       "      <td>some 50 families had to be protected during th...</td>\n",
       "      <td>( cnn ) -- los angeles police officer christop...</td>\n",
       "      <td>50 family protect manhunt christopher dorner ....</td>\n",
       "      <td>28</td>\n",
       "      <td>3</td>\n",
       "      <td>577</td>\n",
       "      <td>39</td>\n",
       "      <td>2805</td>\n",
       "      <td>182</td>\n",
       "      <td>0.205631</td>\n",
       "      <td>0.213115</td>\n",
       "      <td>0.048443</td>\n",
       "      <td>0.075000</td>\n",
       "      <td>84</td>\n",
       "      <td>5</td>\n",
       "      <td>254</td>\n",
       "      <td>17</td>\n",
       "      <td>0.439446</td>\n",
       "      <td>0.425000</td>\n",
       "    </tr>\n",
       "  </tbody>\n",
       "</table>\n",
       "</div>"
      ],
      "text/plain": [
       "                                             article  \\\n",
       "0  by . emma reynolds . published: . 03:22 est, 4...   \n",
       "1  by . james chapman . david cameron has ordered...   \n",
       "2  by . john hall . published: . 04:27 est, 4 feb...   \n",
       "3  by . daily mail reporter . published: . 01:50 ...   \n",
       "4  (cnn) -- when former los angeles police office...   \n",
       "\n",
       "                                             summary  \\\n",
       "0  patrick lanzo horrified the community with a s...   \n",
       "1  exclusive: senior tories examining plan to for...   \n",
       "2  coding-error redirects thousands of nhs users ...   \n",
       "3  city éclair, a bakery in new york's little ita...   \n",
       "4  some 50 families had to be protected during th...   \n",
       "\n",
       "                                  lemmatized_article  \\\n",
       "0  . emma reynolds . publish : . 03:22 est , 4 20...   \n",
       "1  . james chapman . david cameron order tory pub...   \n",
       "2  . john hall . publish : . 04:27 est , 4 februa...   \n",
       "3  . daily mail reporter . publish : . 01:50 est ...   \n",
       "4  ( cnn ) -- los angeles police officer christop...   \n",
       "\n",
       "                                 lemmatized_asummary  article_sentence_count  \\\n",
       "0  patrick lanzo horrify community similar sign b...                      42   \n",
       "1  exclusive : senior tory examine plan form gove...                      34   \n",
       "2  code - error redirect thousand nhs user fraudu...                      23   \n",
       "3  city éclair , bakery new york little italy , a...                      24   \n",
       "4  50 family protect manhunt christopher dorner ....                      28   \n",
       "\n",
       "   summary_sentence_count  article_word_count  summary_word_count  \\\n",
       "0                       2                 518                  35   \n",
       "1                       5                 895                  70   \n",
       "2                       3                 476                  31   \n",
       "3                       3                 331                  58   \n",
       "4                       3                 577                  39   \n",
       "\n",
       "   article_char_count  summary_char_count  article_word_density  \\\n",
       "0                2495                 170              0.207532   \n",
       "1                4509                 309              0.198448   \n",
       "2                2434                 184              0.195483   \n",
       "3                1554                 297              0.212862   \n",
       "4                2805                 182              0.205631   \n",
       "\n",
       "   summary_word_density  article_sentence_density  summary_sentence_density  \\\n",
       "0              0.204678                  0.080925                  0.055556   \n",
       "1              0.225806                  0.037946                  0.070423   \n",
       "2              0.167568                  0.048218                  0.093750   \n",
       "3              0.194631                  0.072289                  0.050847   \n",
       "4              0.213115                  0.048443                  0.075000   \n",
       "\n",
       "   article_punctuation_count  summary_punctuation_count  \\\n",
       "0                        148                          4   \n",
       "1                         86                          7   \n",
       "2                         70                          4   \n",
       "3                         82                         12   \n",
       "4                         84                          5   \n",
       "\n",
       "   article_stopwords_count  summary_stopwords_count  \\\n",
       "0                      204                       12   \n",
       "1                      379                       20   \n",
       "2                      192                        9   \n",
       "3                      126                       16   \n",
       "4                      254                       17   \n",
       "\n",
       "   article_stopwords_density  summary_stopwords_density  \n",
       "0                   0.393064                   0.333333  \n",
       "1                   0.422991                   0.281690  \n",
       "2                   0.402516                   0.281250  \n",
       "3                   0.379518                   0.271186  \n",
       "4                   0.439446                   0.425000  "
      ]
     },
     "execution_count": 13,
     "metadata": {},
     "output_type": "execute_result"
    }
   ],
   "source": [
    "# define stopwords and punctuation\n",
    "stopwords = stopwords.words('english')\n",
    "punc = string.punctuation\n",
    "\n",
    "# Count the number of sentences in 'article' and 'summary' columns\n",
    "df1_lower['article_sentence_count'] = df1_lower['article'].apply(lambda x: len(split_sentences(x)))\n",
    "df1_lower['summary_sentence_count'] = df1_lower['summary'].apply(lambda x: len(split_sentences(x)))\n",
    "\n",
    "# Count the number of words in 'article' and 'summary' columns\n",
    "df1_lower['article_word_count'] = df1_lower['article'].apply(lambda x: len(x.split()))\n",
    "df1_lower['summary_word_count'] = df1_lower['summary'].apply(lambda x: len(x.split()))\n",
    "\n",
    "# Count the number of characters (excluding spaces) in 'article' and 'summary' columns\n",
    "df1_lower['article_char_count'] = df1_lower['article'].apply(lambda x: len(x.replace(\" \", \"\")))\n",
    "df1_lower['summary_char_count'] = df1_lower['summary'].apply(lambda x: len(x.replace(\" \", \"\")))\n",
    "\n",
    "# Calculate word density (words per character) in 'article' and 'summary' columns\n",
    "df1_lower['article_word_density'] = df1_lower['article_word_count'] / (df1_lower['article_char_count'] + 1)\n",
    "df1_lower['summary_word_density'] = df1_lower['summary_word_count'] / (df1_lower['summary_char_count'] + 1)\n",
    "\n",
    "# Calculate sentence density (sentences per word) in 'article' and 'summary' columns\n",
    "df1_lower['article_sentence_density'] = df1_lower['article_sentence_count'] / (df1_lower['article_word_count'] + 1)\n",
    "df1_lower['summary_sentence_density'] = df1_lower['summary_sentence_count'] / (df1_lower['summary_word_count'] + 1)\n",
    "\n",
    "# Count the number of punctuation marks in 'article' and 'summary' columns\n",
    "df1_lower['article_punctuation_count'] = df1_lower['article'].apply(lambda x: len([a for a in x if a in punc]))\n",
    "df1_lower['summary_punctuation_count'] = df1_lower['summary'].apply(lambda x: len([a for a in x if a in punc]))\n",
    "\n",
    "# Count the number of stopwords in 'article' and 'summary' columns\n",
    "df1_lower['article_stopwords_count'] = df1_lower['article'].apply(lambda x: count_stopwords(x, stopwords))\n",
    "df1_lower['summary_stopwords_count'] = df1_lower['summary'].apply(lambda x: count_stopwords(x, stopwords))\n",
    "\n",
    "# Calculate stopwords density (stopwords per word) in 'article' and 'summary' columns\n",
    "df1_lower['article_stopwords_density'] = df1_lower['article_stopwords_count'] / (df1_lower['article_word_count'] + 1)\n",
    "df1_lower['summary_stopwords_density'] = df1_lower['summary_stopwords_count'] / (df1_lower['summary_word_count'] + 1)\n",
    "\n",
    "df1_lower.head()"
   ]
  },
  {
   "cell_type": "code",
   "execution_count": null,
   "id": "b4f88e6f",
   "metadata": {},
   "outputs": [],
   "source": []
  },
  {
   "cell_type": "markdown",
   "id": "0adf0b08",
   "metadata": {},
   "source": [
    "## Analyze Feature Distributions on the article variable"
   ]
  },
  {
   "cell_type": "code",
   "execution_count": 15,
   "id": "1e48256a",
   "metadata": {},
   "outputs": [
    {
     "data": {
      "text/html": [
       "<div>\n",
       "<style scoped>\n",
       "    .dataframe tbody tr th:only-of-type {\n",
       "        vertical-align: middle;\n",
       "    }\n",
       "\n",
       "    .dataframe tbody tr th {\n",
       "        vertical-align: top;\n",
       "    }\n",
       "\n",
       "    .dataframe thead th {\n",
       "        text-align: right;\n",
       "    }\n",
       "</style>\n",
       "<table border=\"1\" class=\"dataframe\">\n",
       "  <thead>\n",
       "    <tr style=\"text-align: right;\">\n",
       "      <th></th>\n",
       "      <th>article_sentence_count</th>\n",
       "      <th>article_word_count</th>\n",
       "      <th>article_char_count</th>\n",
       "      <th>article_word_density</th>\n",
       "      <th>article_sentence_density</th>\n",
       "      <th>article_punctuation_count</th>\n",
       "      <th>article_stopwords_count</th>\n",
       "    </tr>\n",
       "  </thead>\n",
       "  <tbody>\n",
       "    <tr>\n",
       "      <th>count</th>\n",
       "      <td>100.000000</td>\n",
       "      <td>100.000000</td>\n",
       "      <td>100.000000</td>\n",
       "      <td>100.000000</td>\n",
       "      <td>100.000000</td>\n",
       "      <td>100.000000</td>\n",
       "      <td>100.000000</td>\n",
       "    </tr>\n",
       "    <tr>\n",
       "      <th>mean</th>\n",
       "      <td>35.420000</td>\n",
       "      <td>642.260000</td>\n",
       "      <td>3100.720000</td>\n",
       "      <td>0.207153</td>\n",
       "      <td>0.055458</td>\n",
       "      <td>109.420000</td>\n",
       "      <td>264.160000</td>\n",
       "    </tr>\n",
       "    <tr>\n",
       "      <th>std</th>\n",
       "      <td>20.131477</td>\n",
       "      <td>308.750058</td>\n",
       "      <td>1476.882555</td>\n",
       "      <td>0.010555</td>\n",
       "      <td>0.015312</td>\n",
       "      <td>57.190481</td>\n",
       "      <td>144.459335</td>\n",
       "    </tr>\n",
       "    <tr>\n",
       "      <th>min</th>\n",
       "      <td>6.000000</td>\n",
       "      <td>163.000000</td>\n",
       "      <td>747.000000</td>\n",
       "      <td>0.182190</td>\n",
       "      <td>0.032258</td>\n",
       "      <td>36.000000</td>\n",
       "      <td>50.000000</td>\n",
       "    </tr>\n",
       "    <tr>\n",
       "      <th>25%</th>\n",
       "      <td>23.000000</td>\n",
       "      <td>395.000000</td>\n",
       "      <td>1932.250000</td>\n",
       "      <td>0.200106</td>\n",
       "      <td>0.045316</td>\n",
       "      <td>66.750000</td>\n",
       "      <td>166.000000</td>\n",
       "    </tr>\n",
       "    <tr>\n",
       "      <th>50%</th>\n",
       "      <td>28.000000</td>\n",
       "      <td>578.000000</td>\n",
       "      <td>2818.500000</td>\n",
       "      <td>0.207020</td>\n",
       "      <td>0.053396</td>\n",
       "      <td>96.000000</td>\n",
       "      <td>221.500000</td>\n",
       "    </tr>\n",
       "    <tr>\n",
       "      <th>75%</th>\n",
       "      <td>46.250000</td>\n",
       "      <td>820.500000</td>\n",
       "      <td>3830.500000</td>\n",
       "      <td>0.214016</td>\n",
       "      <td>0.062257</td>\n",
       "      <td>139.500000</td>\n",
       "      <td>328.500000</td>\n",
       "    </tr>\n",
       "    <tr>\n",
       "      <th>max</th>\n",
       "      <td>116.000000</td>\n",
       "      <td>1700.000000</td>\n",
       "      <td>7480.000000</td>\n",
       "      <td>0.230077</td>\n",
       "      <td>0.122093</td>\n",
       "      <td>349.000000</td>\n",
       "      <td>890.000000</td>\n",
       "    </tr>\n",
       "  </tbody>\n",
       "</table>\n",
       "</div>"
      ],
      "text/plain": [
       "       article_sentence_count  article_word_count  article_char_count  \\\n",
       "count              100.000000          100.000000          100.000000   \n",
       "mean                35.420000          642.260000         3100.720000   \n",
       "std                 20.131477          308.750058         1476.882555   \n",
       "min                  6.000000          163.000000          747.000000   \n",
       "25%                 23.000000          395.000000         1932.250000   \n",
       "50%                 28.000000          578.000000         2818.500000   \n",
       "75%                 46.250000          820.500000         3830.500000   \n",
       "max                116.000000         1700.000000         7480.000000   \n",
       "\n",
       "       article_word_density  article_sentence_density  \\\n",
       "count            100.000000                100.000000   \n",
       "mean               0.207153                  0.055458   \n",
       "std                0.010555                  0.015312   \n",
       "min                0.182190                  0.032258   \n",
       "25%                0.200106                  0.045316   \n",
       "50%                0.207020                  0.053396   \n",
       "75%                0.214016                  0.062257   \n",
       "max                0.230077                  0.122093   \n",
       "\n",
       "       article_punctuation_count  article_stopwords_count  \n",
       "count                 100.000000               100.000000  \n",
       "mean                  109.420000               264.160000  \n",
       "std                    57.190481               144.459335  \n",
       "min                    36.000000                50.000000  \n",
       "25%                    66.750000               166.000000  \n",
       "50%                    96.000000               221.500000  \n",
       "75%                   139.500000               328.500000  \n",
       "max                   349.000000               890.000000  "
      ]
     },
     "execution_count": 15,
     "metadata": {},
     "output_type": "execute_result"
    }
   ],
   "source": [
    "# Select columns related to article\n",
    "article_columns = df1_lower[['article_sentence_count', 'article_word_count', 'article_char_count',\n",
    "                             'article_word_density', 'article_sentence_density',\n",
    "                             'article_punctuation_count', 'article_stopwords_count']]\n",
    "\n",
    "# descriptive statistics for the article columns\n",
    "article_columns.describe()"
   ]
  },
  {
   "cell_type": "code",
   "execution_count": 16,
   "id": "9b063b4d",
   "metadata": {},
   "outputs": [],
   "source": [
    "# create helper functions to draw box plot and histograms\n",
    "def plot_box_plots(data, columns, num_rows=2, num_cols=3):\n",
    "    \"\"\"\n",
    "    Plot box plots for specified columns from a DataFrame.\n",
    "\n",
    "    Args:\n",
    "        data (DataFrame): The input DataFrame containing the columns to plot.\n",
    "        columns (list): List of column names to create box plots for.\n",
    "        num_rows (int): Number of rows for the subplot grid (default is 2).\n",
    "        num_cols (int): Number of columns for the subplot grid (default is 3).\n",
    "\n",
    "    Returns:\n",
    "        None\n",
    "    \"\"\"\n",
    "\n",
    "    # Calculate the total number of plots needed\n",
    "    total_plots = num_rows * num_cols\n",
    "\n",
    "    # Create a subplot grid to accommodate the specified number of columns\n",
    "    fig, axes = plt.subplots(nrows=num_rows, ncols=num_cols, figsize=(20, 4))\n",
    "    axes = axes.flatten()\n",
    "\n",
    "    # Plot box plots for each column in the specified list\n",
    "    for i, col in enumerate(columns):\n",
    "        if i < total_plots:\n",
    "            ax = axes[i]\n",
    "            ax.boxplot(data[col], vert=True)\n",
    "            ax.set_title(col.replace(\"_\", \" \"))\n",
    "            ax.set_xlabel(\"Value\")\n",
    "\n",
    "    # Hide any remaining empty subplots (if there are fewer columns than total_plots)\n",
    "    for i in range(len(columns), total_plots):\n",
    "        axes[i].axis('off')\n",
    "\n",
    "    plt.tight_layout()\n",
    "    plt.show()\n",
    "\n",
    "def plot_histograms(data, num_rows=None, num_cols=None):\n",
    "    \"\"\"\n",
    "    Plot histograms for each column in the DataFrame.\n",
    "\n",
    "    Args:\n",
    "        data (DataFrame): The input DataFrame containing columns to plot.\n",
    "        num_rows (int): Number of rows for subplots (optional). If not provided,\n",
    "                        it will be automatically calculated based on the number of columns.\n",
    "        num_cols (int): Number of columns for subplots (optional). If not provided,\n",
    "                        it will be automatically calculated based on the number of columns.\n",
    "\n",
    "    Returns:\n",
    "        None\n",
    "    \"\"\"\n",
    "    # Get the column names from the DataFrame\n",
    "    columns = data.columns\n",
    "\n",
    "    # Calculate the number of rows and columns for the subplots\n",
    "    if num_rows is None and num_cols is None:\n",
    "        num_rows = int(len(columns) ** 0.5)\n",
    "        num_cols = (len(columns) + num_rows - 1) // num_rows\n",
    "    elif num_rows is None:\n",
    "        num_rows = (len(columns) + num_cols - 1) // num_cols\n",
    "    elif num_cols is None:\n",
    "        num_cols = (len(columns) + num_rows - 1) // num_rows\n",
    "\n",
    "    # Create subplots\n",
    "    fig, axes = plt.subplots(nrows=num_rows, ncols=num_cols, figsize=(20, 4))\n",
    "\n",
    "    # Flatten the axes array to easily iterate over each subplot\n",
    "    axes = axes.flatten()\n",
    "\n",
    "    # Plot histograms for each column on the corresponding subplot\n",
    "    for i, col in enumerate(columns):\n",
    "        if i < len(columns):\n",
    "            ax = axes[i]\n",
    "            ax.hist(data[col], bins=100)\n",
    "            ax.set_title(col.replace(\"_\", \" \"))\n",
    "            ax.set_xlabel(\"Value\")\n",
    "            ax.set_ylabel(\"Frequency\")\n",
    "\n",
    "    # Hide any remaining empty subplots\n",
    "    for i in range(len(columns), num_rows * num_cols):\n",
    "        axes[i].axis('off')\n",
    "\n",
    "    plt.tight_layout()\n",
    "    plt.show()\n"
   ]
  },
  {
   "cell_type": "code",
   "execution_count": 17,
   "id": "f5ae62c1",
   "metadata": {},
   "outputs": [
    {
     "data": {
      "image/png": "[encoded data removed]",
      "text/plain": [
       "<Figure size 2000x400 with 6 Axes>"
      ]
     },
     "metadata": {},
     "output_type": "display_data"
    }
   ],
   "source": [
    "# select article related columns\n",
    "article_columns_to_plot= ['article_sentence_count', 'article_word_count', 'article_char_count','article_word_density',\n",
    "                          'article_sentence_density', 'article_punctuation_count', 'article_stopwords_count']\n",
    "# box plot\n",
    "plot_box_plots(df1_lower, article_columns_to_plot, num_rows=1, num_cols=6)"
   ]
  },
  {
   "cell_type": "code",
   "execution_count": 18,
   "id": "8f5ee100",
   "metadata": {},
   "outputs": [
    {
     "data": {
      "image/png": "[encoded data removed]",
      "text/plain": [
       "<Figure size 2000x400 with 7 Axes>"
      ]
     },
     "metadata": {},
     "output_type": "display_data"
    }
   ],
   "source": [
    "# plot histograms for the article columns\n",
    "plot_histograms(article_columns, num_rows=1, num_cols=7)"
   ]
  },
  {
   "cell_type": "markdown",
   "id": "IigrVV7DeFUT",
   "metadata": {
    "id": "IigrVV7DeFUT"
   },
   "source": [
    "## Analyzing text statistics"
   ]
  },
  {
   "cell_type": "code",
   "execution_count": 30,
   "id": "0dj4GTZoeL9I",
   "metadata": {
    "colab": {
     "base_uri": "https://localhost:8080/",
     "height": 487
    },
    "id": "0dj4GTZoeL9I",
    "outputId": "dc86e851-0760-4569-fb68-a5043ce7e11d"
   },
   "outputs": [
    {
     "name": "stderr",
     "output_type": "stream",
     "text": [
      "/usr/local/lib/python3.10/dist-packages/ipykernel/ipkernel.py:283: DeprecationWarning: `should_run_async` will not call `transform_cell` automatically in the future. Please pass the result to `transformed_cell` argument and any exception that happen during thetransform in `preprocessing_exc_tuple` in IPython 7.17 and above.\n",
      "  and should_run_async(code)\n"
     ]
    },
    {
     "data": {
      "image/png": "[encoded data removed]",
      "text/plain": [
       "<Figure size 640x480 with 1 Axes>"
      ]
     },
     "metadata": {},
     "output_type": "display_data"
    }
   ],
   "source": [
    "import seaborn as sns\n",
    "from nltk.corpus import stopwords\n",
    "from collections import  Counter\n",
    "\n",
    "def plot_top_non_stopwords_barchart(text):\n",
    "    stop=set(stopwords.words('english'))\n",
    "\n",
    "    new= text.str.split()\n",
    "    new=new.values.tolist()\n",
    "    corpus=[word for i in new for word in i]\n",
    "\n",
    "    counter=Counter(corpus)\n",
    "    most=counter.most_common()\n",
    "    x, y=[], []\n",
    "    for word,count in most[:40]:\n",
    "        if (word not in stop):\n",
    "            x.append(word)\n",
    "            y.append(count)\n",
    "\n",
    "    sns.barplot(x=y,y=x)\n",
    "\n",
    "plot_top_non_stopwords_barchart(df1_lower['lemmatized_article'])"
   ]
  },
  {
   "cell_type": "markdown",
   "id": "6XJQUks0hU0j",
   "metadata": {
    "id": "6XJQUks0hU0j"
   },
   "source": [
    "# Topic modeling exploration with pyLDAvis"
   ]
  },
  {
   "cell_type": "markdown",
   "id": "Cg1W9x2qhUyx",
   "metadata": {
    "id": "Cg1W9x2qhUyx"
   },
   "source": []
  },
  {
   "cell_type": "code",
   "execution_count": 31,
   "id": "oFPlJb1xhTGi",
   "metadata": {
    "colab": {
     "base_uri": "https://localhost:8080/"
    },
    "id": "oFPlJb1xhTGi",
    "outputId": "e16d5eb2-a4e4-4485-e405-81c4b7671a04"
   },
   "outputs": [
    {
     "name": "stderr",
     "output_type": "stream",
     "text": [
      "/usr/local/lib/python3.10/dist-packages/ipykernel/ipkernel.py:283: DeprecationWarning: `should_run_async` will not call `transform_cell` automatically in the future. Please pass the result to `transformed_cell` argument and any exception that happen during thetransform in `preprocessing_exc_tuple` in IPython 7.17 and above.\n",
      "  and should_run_async(code)\n"
     ]
    }
   ],
   "source": [
    "# Code Snippet for Creating LDA visualization\n",
    "\n",
    "import numpy as np\n",
    "import nltk\n",
    "from nltk.corpus import stopwords\n",
    "import gensim\n",
    "from nltk.stem import WordNetLemmatizer,PorterStemmer\n",
    "from nltk.tokenize import word_tokenize\n",
    "import pyLDAvis.gensim\n",
    "\n",
    "\n",
    "def get_lda_objects(text):\n",
    "    nltk.download('stopwords')\n",
    "    stop=set(stopwords.words('english'))\n",
    "\n",
    "\n",
    "    def _preprocess_text(text):\n",
    "        corpus=[]\n",
    "        stem=PorterStemmer()\n",
    "        lem=WordNetLemmatizer()\n",
    "        for news in text:\n",
    "            words=[w for w in word_tokenize(news) if (w not in stop)]\n",
    "\n",
    "            words=[lem.lemmatize(w) for w in words if len(w)>2]\n",
    "\n",
    "            corpus.append(words)\n",
    "        return corpus\n",
    "\n",
    "    corpus=_preprocess_text(text)\n",
    "\n",
    "    dic=gensim.corpora.Dictionary(corpus)\n",
    "    bow_corpus = [dic.doc2bow(doc) for doc in corpus]\n",
    "\n",
    "    lda_model =  gensim.models.LdaMulticore(bow_corpus,\n",
    "                                   num_topics = 4,\n",
    "                                   id2word = dic,\n",
    "                                   passes = 10,\n",
    "                                   workers = 2)\n",
    "\n",
    "    return lda_model, bow_corpus, dic\n",
    "\n",
    "def plot_lda_vis(lda_model, bow_corpus, dic):\n",
    "    pyLDAvis.enable_notebook()\n",
    "    vis = pyLDAvis.gensim.prepare(lda_model, bow_corpus, dic)\n",
    "    return vis"
   ]
  },
  {
   "cell_type": "code",
   "execution_count": 32,
   "id": "zYGq6zdbhdkV",
   "metadata": {
    "colab": {
     "base_uri": "https://localhost:8080/"
    },
    "id": "zYGq6zdbhdkV",
    "outputId": "e7afe620-32d8-4bbf-bc7d-ee5e3a163da1"
   },
   "outputs": [
    {
     "name": "stderr",
     "output_type": "stream",
     "text": [
      "/usr/local/lib/python3.10/dist-packages/ipykernel/ipkernel.py:283: DeprecationWarning: `should_run_async` will not call `transform_cell` automatically in the future. Please pass the result to `transformed_cell` argument and any exception that happen during thetransform in `preprocessing_exc_tuple` in IPython 7.17 and above.\n",
      "  and should_run_async(code)\n",
      "[nltk_data] Downloading package stopwords to /root/nltk_data...\n",
      "[nltk_data]   Package stopwords is already up-to-date!\n"
     ]
    }
   ],
   "source": [
    "lda_model, bow_corpus, dic = get_lda_objects(df1_lower['summary'])"
   ]
  },
  {
   "cell_type": "code",
   "execution_count": 33,
   "id": "i6ETkXhhhfYy",
   "metadata": {
    "colab": {
     "base_uri": "https://localhost:8080/"
    },
    "id": "i6ETkXhhhfYy",
    "outputId": "8640d481-085f-41f3-aab8-8533c8fff025"
   },
   "outputs": [
    {
     "name": "stderr",
     "output_type": "stream",
     "text": [
      "/usr/local/lib/python3.10/dist-packages/ipykernel/ipkernel.py:283: DeprecationWarning: `should_run_async` will not call `transform_cell` automatically in the future. Please pass the result to `transformed_cell` argument and any exception that happen during thetransform in `preprocessing_exc_tuple` in IPython 7.17 and above.\n",
      "  and should_run_async(code)\n"
     ]
    },
    {
     "data": {
      "text/plain": [
       "[(0,\n",
       "  '0.006*\"said\" + 0.005*\"new\" + 0.005*\"say\" + 0.004*\"home\" + 0.004*\"truman\" + 0.003*\"balotelli\" + 0.003*\"star\" + 0.003*\"tax\" + 0.003*\"four\" + 0.003*\"governor\"'),\n",
       " (1,\n",
       "  '0.010*\"say\" + 0.003*\"people\" + 0.003*\"said\" + 0.003*\"report\" + 0.003*\"january\" + 0.003*\"free\" + 0.003*\"show\" + 0.003*\"state\" + 0.003*\"world\" + 0.003*\"also\"'),\n",
       " (2,\n",
       "  '0.011*\"child\" + 0.006*\"say\" + 0.005*\"year\" + 0.004*\"come\" + 0.004*\"egg\" + 0.004*\"garrison\" + 0.003*\"also\" + 0.003*\"exam\" + 0.003*\"pornography\" + 0.003*\"case\"'),\n",
       " (3,\n",
       "  '0.008*\"could\" + 0.006*\"day\" + 0.004*\"would\" + 0.004*\"found\" + 0.003*\"two\" + 0.003*\"woman\" + 0.003*\"one\" + 0.003*\"used\" + 0.003*\"andrea\" + 0.003*\"pool\"')]"
      ]
     },
     "execution_count": 33,
     "metadata": {},
     "output_type": "execute_result"
    }
   ],
   "source": [
    "lda_model.show_topics()"
   ]
  },
  {
   "cell_type": "code",
   "execution_count": 34,
   "id": "DTQ9Ofxghhj2",
   "metadata": {
    "colab": {
     "base_uri": "https://localhost:8080/",
     "height": 917
    },
    "id": "DTQ9Ofxghhj2",
    "outputId": "dd631e3b-3d16-4000-d0fa-bd4a03f9e022"
   },
   "outputs": [
    {
     "name": "stderr",
     "output_type": "stream",
     "text": [
      "/usr/local/lib/python3.10/dist-packages/ipykernel/ipkernel.py:283: DeprecationWarning: `should_run_async` will not call `transform_cell` automatically in the future. Please pass the result to `transformed_cell` argument and any exception that happen during thetransform in `preprocessing_exc_tuple` in IPython 7.17 and above.\n",
      "  and should_run_async(code)\n"
     ]
    },
    {
     "data": {
      "text/html": [
       "\n",
       "<link rel=\"stylesheet\" type=\"text/css\" href=\"https://cdn.jsdelivr.net/gh/bmabey/pyLDAvis@3.4.0/pyLDAvis/js/ldavis.v1.0.0.css\">\n",
       "\n",
       "\n",
       "<div id=\"ldavis_el85571325842724296808833026593\" style=\"background-color:white;\"></div>\n",
       "<script type=\"text/javascript\">\n",
       "\n",
       "var ldavis_el85571325842724296808833026593_data = {\"mdsDat\": {\"x\": [0.09118486258226458, -0.05723057332161454, -0.08299599208716267, 0.04904170282651264], \"y\": [-0.044644008174126226, 0.09221352591399248, -0.08846853064786209, 0.04089901290799583], \"topics\": [1, 2, 3, 4], \"cluster\": [1, 1, 1, 1], \"Freq\": [26.90461707418363, 25.898337653397903, 23.779752705314653, 23.41729256710382]}, \"tinfo\": {\"Term\": [\"child\", \"day\", \"could\", \"truman\", \"egg\", \"garrison\", \"home\", \"andrea\", \"pool\", \"balotelli\", \"governor\", \"airport\", \"year\", \"exam\", \"pornography\", \"case\", \"january\", \"security\", \"say\", \"tax\", \"would\", \"star\", \"work\", \"system\", \"judge\", \"brown\", \"audrey\", \"skin\", \"area\", \"drunk\", \"egg\", \"garrison\", \"exam\", \"pornography\", \"case\", \"spoke\", \"burbridge\", \"bour\", \"michael\", \"hillard\", \"food\", \"tacopina\", \"parent\", \"winsor\", \"movie\", \"reporting\", \"temperature\", \"united\", \"josh\", \"change\", \"evidence\", \"priest\", \"boiler\", \"warmer\", \"bee\", \"cold\", \"pleaded\", \"appeared\", \"bernard\", \"chakvetadze\", \"child\", \"come\", \"year\", \"win\", \"action\", \"member\", \"guilty\", \"return\", \"obama\", \"pupil\", \"expert\", \"say\", \"charged\", \"five\", \"part\", \"called\", \"also\", \"house\", \"made\", \"back\", \"n't\", \"one\", \"told\", \"face\", \"mother\", \"truman\", \"balotelli\", \"governor\", \"airport\", \"shot\", \"osilka\", \"mark\", \"fort\", \"bragg\", \"hayes\", \"ethiopian\", \"cruz\", \"newman\", \"champion\", \"henry\", \"london\", \"senegal\", \"played\", \"utah\", \"striker\", \"soulja\", \"sterling\", \"holbrook\", \"nothing\", \"abby\", \"attacker\", \"party\", \"savile\", \"superman\", \"kill\", \"star\", \"home\", \"tax\", \"four\", \"said\", \"100\", \"paid\", \"new\", \"sunday\", \"boy\", \"group\", \"say\", \"belief\", \"year\", \"told\", \"city\", \"report\", \"one\", \"world\", \"n't\", \"police\", \"day\", \"andrea\", \"pool\", \"audrey\", \"skin\", \"area\", \"drunk\", \"button\", \"g4s\", \"screen\", \"protester\", \"labor\", \"leader\", \"civil\", \"bath\", \"wait\", \"broke\", \"facebook\", \"came\", \"stingray\", \"rescue\", \"private\", \"rio\", \"seed\", \"started\", \"park\", \"wenman\", \"price\", \"azarenka\", \"play\", \"could\", \"used\", \"security\", \"pay\", \"reveals\", \"would\", \"found\", \"warned\", \"woman\", \"two\", \"three\", \"one\", \"month\", \"first\", \"new\", \"former\", \"home\", \"n't\", \"say\", \"beat\", \"south\", \"work\", \"system\", \"judge\", \"brown\", \"worker\", \"carter\", \"cordingley\", \"cosby\", \"violet\", \"rape\", \"present\", \"santa\", \"michelle\", \"country\", \"claiming\", \"kennedy\", \"followed\", \"assured\", \"zimmerman\", \"george\", \"jury\", \"hostin\", \"french\", \"investigation\", \"decide\", \"answer\", \"girl\", \"born\", \"possible\", \"citizen\", \"january\", \"say\", \"free\", \"sentenced\", \"father\", \"post\", \"allegation\", \"people\", \"car\", \"report\", \"white\", \"prison\", \"make\", \"show\", \"state\", \"said\", \"face\", \"police\", \"world\", \"also\", \"n't\", \"child\", \"year\", \"would\", \"filed\", \"house\"], \"Freq\": [13.0, 5.0, 8.0, 3.0, 3.0, 3.0, 5.0, 3.0, 3.0, 3.0, 3.0, 3.0, 8.0, 3.0, 3.0, 3.0, 3.0, 4.0, 18.0, 4.0, 6.0, 3.0, 2.0, 2.0, 2.0, 2.0, 2.0, 2.0, 2.0, 2.0, 3.3029636745985504, 3.2994454402352944, 2.6737812766551454, 2.672589659027542, 2.671771521419994, 2.045377989982596, 2.0443736178875165, 2.043910963699165, 2.0433846136763156, 2.043261468396287, 2.042781019816075, 2.0417062789895506, 1.9847808061764525, 1.4159742742904364, 1.4159713422599596, 1.4159649726765098, 1.4156555929089494, 1.415648818907503, 1.415633349919125, 1.4155794612210497, 1.4155180907900338, 1.4154839174693032, 1.4154083924083989, 1.4153588512037893, 1.4152492539266537, 1.4151730211342548, 1.4150383499413168, 1.415024903042923, 1.4149100483318287, 1.4148297713594618, 9.614474924326352, 3.3059304850231546, 4.56375194533125, 2.076887813786117, 2.0451078387607264, 2.044767318807412, 2.043701475176817, 2.044508491289453, 2.04378599853815, 1.9950528210864495, 1.9829429285899456, 5.205008849196438, 2.0446391183024226, 2.045646119114482, 2.044942836218028, 2.042993743682398, 2.6800273104068904, 2.0456380307545454, 2.0442205456757234, 2.044967707924832, 2.0469681615460567, 2.04677747846056, 2.044356227913654, 2.044235509141606, 2.044195269550923, 3.264329357607534, 2.642749448657809, 2.639945183295514, 2.638573512718149, 2.0208454540672, 2.02043280448241, 2.019914656749056, 2.0191337368744446, 2.0189313050026607, 2.0185455165700885, 2.018036517200171, 2.0179419192293184, 2.016686257686168, 2.008826645618137, 1.3994038411221887, 1.399258245891329, 1.399144475286466, 1.3991162516120346, 1.399124718714364, 1.3990581497719121, 1.39895508469873, 1.3988054019012284, 1.3986845267162498, 1.398568809651081, 1.3985106104879435, 1.3983631661197933, 1.3983320227549034, 1.3983063294788693, 1.3981567440043832, 1.3981559654202609, 2.6422620549972837, 3.264340257785245, 2.641730476687821, 2.641061283634752, 5.133930758362036, 2.019764779305524, 2.012540102589184, 3.8882966001220916, 2.0212909988311543, 2.0215938680547074, 2.010831694378948, 3.8740002384694323, 2.0153961437956083, 2.6328592891989637, 2.020798739019865, 2.0048461342931603, 2.0212252084728246, 2.0225425728076627, 2.0222381464158654, 2.0217069573984636, 2.0206120734765567, 4.967310759018692, 2.5615658382821826, 2.5600136270582143, 1.9584453650903555, 1.9561146354908423, 1.955770235832974, 1.9556667550847093, 1.9553874106813631, 1.9553459468927665, 1.9551200407342064, 1.356299201568933, 1.356298218591186, 1.3562889249833971, 1.3561614059611402, 1.3556146022490239, 1.3553458918776666, 1.3553053217052038, 1.3551781601294002, 1.3549701262935108, 1.354969143315764, 1.3549597603463617, 1.3545616543588672, 1.3541720377246416, 1.354224582353294, 1.3542131440667846, 1.3541522888080901, 1.3541715909165748, 1.3540949186523166, 1.3540932207816627, 1.3540325442461951, 6.1757982563620795, 2.5618047912362925, 2.5575039955087653, 1.9575749829762823, 1.9564803032126892, 3.162575768889802, 3.157621203598973, 1.913084516535457, 2.5635269682488615, 2.5635387639818243, 1.9590020879415542, 2.562990262399054, 1.9594102917913578, 1.95875902435323, 2.5078673724780787, 1.9582203525479287, 1.957261859883088, 1.9575342340805926, 1.9494825739941217, 1.365053154574757, 1.3685166319851525, 1.9453063300721922, 1.9442163679026712, 1.943855041835494, 1.9427957035021586, 1.3471024260137867, 1.3469867066327985, 1.3469351389086472, 1.3469074190569275, 1.3468828671882616, 1.346866323276759, 1.3467589638510513, 1.3467139080920658, 1.3466341805185484, 1.34662194858398, 1.3466180766046925, 1.34659669271908, 1.3465673008763044, 1.346549436971863, 1.3465284050843676, 1.3465262930956652, 1.3465034132180553, 1.346279894413713, 1.3461596870567323, 1.346146575126871, 1.3461388311682956, 1.3460163358235535, 1.3459913439572413, 1.345901144439741, 1.3457882410436894, 1.3456895935713793, 2.543172667936323, 7.345825473350935, 1.9696316879497975, 1.9446586535367751, 1.9467947541102415, 1.9466492028888311, 1.946464403877367, 2.5582911630637293, 1.9443876149866277, 2.5449736663023343, 1.9455412888153394, 1.944762492981312, 1.9461264856849756, 1.9489921023560786, 1.9480033396452165, 2.5485423992122938, 1.9442035199713978, 1.9448524285002247, 1.9478132606619962, 1.9475605260139368, 1.945982518455092, 1.9440540967706998, 1.3562445211104444, 1.3488649685855079, 1.3485617222076483, 1.3483026515934815], \"Total\": [13.0, 5.0, 8.0, 3.0, 3.0, 3.0, 5.0, 3.0, 3.0, 3.0, 3.0, 3.0, 8.0, 3.0, 3.0, 3.0, 3.0, 4.0, 18.0, 4.0, 6.0, 3.0, 2.0, 2.0, 2.0, 2.0, 2.0, 2.0, 2.0, 2.0, 3.760085090045119, 3.759922157517681, 3.130692483190479, 3.1306734612118277, 3.1306398454016606, 2.501341473213376, 2.501295749693207, 2.501301567618552, 2.5012552496082012, 2.5012860804969397, 2.5012617678982316, 2.5012213599035698, 2.498626223094541, 1.8719409352473446, 1.8719402984380578, 1.871939612125195, 1.871927745715734, 1.8719385106741757, 1.8719242527121973, 1.8719243198815556, 1.8719288522097297, 1.8719360415717468, 1.8719167602629072, 1.871916401119437, 1.871908885701375, 1.87190841381732, 1.8719143996466523, 1.8719205981123936, 1.8719045922765074, 1.8718917562275863, 13.075609858703002, 5.560439201586959, 8.704160415438803, 3.123445314591104, 3.1000150871722214, 3.1040973507598877, 3.104065967358517, 3.1231769372972034, 3.1231741235162036, 3.0977421912726086, 3.0972454577704536, 18.374317135010926, 3.6987916061734825, 3.7028165380815636, 3.7259767235035506, 3.74521305347096, 6.773850158920756, 4.301562407111444, 4.305604356361552, 4.344009912320614, 7.972191871480205, 7.9763111962719915, 5.564799100584433, 5.503207608968655, 4.320666027262524, 3.7234991735552194, 3.1014296823872782, 3.1013246734166806, 3.1012813211957093, 2.4793426762309116, 2.479318318567606, 2.479321442761731, 2.479279691469567, 2.479272818911884, 2.4792760271961107, 2.4792319723672778, 2.47927688551067, 2.479167845598708, 2.4794362133814354, 1.857287130531365, 1.8572740350471961, 1.8572738668844926, 1.8572729903737084, 1.857291186211461, 1.8572834245838938, 1.8572677300776717, 1.8572931389196083, 1.8572604762724079, 1.8572638520804707, 1.8572546747350398, 1.8572899240942546, 1.8572608206810575, 1.8572471229148064, 1.8572441563093167, 1.8572577769996492, 3.730485939425827, 5.531996078542403, 4.307010873085895, 4.333252642006173, 11.078291037721108, 3.0820576828292596, 3.0777094628729067, 9.21541735411392, 3.680789534139219, 3.7072535961611273, 3.7380949482471344, 18.374317135010926, 4.306170488338215, 8.704160415438803, 5.564799100584433, 5.5119029237711406, 6.132918881564848, 7.9763111962719915, 6.739750011962138, 7.972191871480205, 6.137024394794167, 5.436223680905539, 3.024612973652602, 3.024669187088317, 2.421756547921336, 2.4218781538903076, 2.4217718926555163, 2.4218374006727843, 2.4219063576217934, 2.4218657489146906, 2.4219176406758134, 1.8188843583932108, 1.8188842952939706, 1.8188835778101053, 1.8188865156260865, 1.818906109799535, 1.8189144032819398, 1.8189207598360904, 1.8189136452734354, 1.8189228887909124, 1.8189265541921475, 1.8189264129369698, 1.8189334148606513, 1.8188687197856632, 1.8189490043988255, 1.8189602769437636, 1.818906091992262, 1.818960982957929, 1.8189460449358206, 1.8189530593696688, 1.8189641669355023, 8.461491991074679, 4.252542306359682, 4.26873887374121, 3.0436832711228905, 3.051103184494944, 6.068945411600533, 6.1068673907915745, 3.053019032683258, 4.905126761621285, 6.102669928912037, 3.672937188370227, 7.9763111962719915, 4.271633149957043, 4.2950087461783735, 9.21541735411392, 4.908438671759773, 5.531996078542403, 7.972191871480205, 18.374317135010926, 2.417689290440827, 3.039536852536443, 2.4095170328566535, 2.40956498731601, 2.4095989046245787, 2.409612397783937, 1.8107218456284628, 1.810720897666931, 1.8107291927251248, 1.8107315184364414, 1.81072290680257, 1.810733108802392, 1.8107284307444036, 1.810728355301639, 1.8107286702645904, 1.8107399939623612, 1.810747120947762, 1.8107293864767826, 1.810734494377059, 1.8107289913246336, 1.8107438530396467, 1.8107441471806556, 1.8107446195682637, 1.8107523549597366, 1.8107635368962112, 1.810752722188191, 1.8107578412317626, 1.8107473377152477, 1.8107580019283231, 1.810777849893357, 1.8107742565212845, 1.8107846197503543, 3.6375396108898, 18.374317135010926, 3.0304896408103827, 3.031499602037905, 3.038710509551313, 3.038705920118649, 3.0387172121720134, 6.105847325081697, 3.634217617723004, 6.132918881564848, 3.6681552467316454, 4.290146065796845, 4.859349556360586, 4.911991906564256, 4.912068819126442, 11.078291037721108, 5.503207608968655, 6.137024394794167, 6.739750011962138, 6.773850158920756, 7.972191871480205, 13.075609858703002, 8.704160415438803, 6.068945411600533, 3.0426707669151085, 4.301562407111444], \"Category\": [\"Default\", \"Default\", \"Default\", \"Default\", \"Default\", \"Default\", \"Default\", \"Default\", \"Default\", \"Default\", \"Default\", \"Default\", \"Default\", \"Default\", \"Default\", \"Default\", \"Default\", \"Default\", \"Default\", \"Default\", \"Default\", \"Default\", \"Default\", \"Default\", \"Default\", \"Default\", \"Default\", \"Default\", \"Default\", \"Default\", \"Topic1\", \"Topic1\", \"Topic1\", \"Topic1\", \"Topic1\", \"Topic1\", \"Topic1\", \"Topic1\", \"Topic1\", \"Topic1\", \"Topic1\", \"Topic1\", \"Topic1\", \"Topic1\", \"Topic1\", \"Topic1\", \"Topic1\", \"Topic1\", \"Topic1\", \"Topic1\", \"Topic1\", \"Topic1\", \"Topic1\", \"Topic1\", \"Topic1\", \"Topic1\", \"Topic1\", \"Topic1\", \"Topic1\", \"Topic1\", \"Topic1\", \"Topic1\", \"Topic1\", \"Topic1\", \"Topic1\", \"Topic1\", \"Topic1\", \"Topic1\", \"Topic1\", \"Topic1\", \"Topic1\", \"Topic1\", \"Topic1\", \"Topic1\", \"Topic1\", \"Topic1\", \"Topic1\", \"Topic1\", \"Topic1\", \"Topic1\", \"Topic1\", \"Topic1\", \"Topic1\", \"Topic1\", \"Topic1\", \"Topic2\", \"Topic2\", \"Topic2\", \"Topic2\", \"Topic2\", \"Topic2\", \"Topic2\", \"Topic2\", \"Topic2\", \"Topic2\", \"Topic2\", \"Topic2\", \"Topic2\", \"Topic2\", \"Topic2\", \"Topic2\", \"Topic2\", \"Topic2\", \"Topic2\", \"Topic2\", \"Topic2\", \"Topic2\", \"Topic2\", \"Topic2\", \"Topic2\", \"Topic2\", \"Topic2\", \"Topic2\", \"Topic2\", \"Topic2\", \"Topic2\", \"Topic2\", \"Topic2\", \"Topic2\", \"Topic2\", \"Topic2\", \"Topic2\", \"Topic2\", \"Topic2\", \"Topic2\", \"Topic2\", \"Topic2\", \"Topic2\", \"Topic2\", \"Topic2\", \"Topic2\", \"Topic2\", \"Topic2\", \"Topic2\", \"Topic2\", \"Topic2\", \"Topic3\", \"Topic3\", \"Topic3\", \"Topic3\", \"Topic3\", \"Topic3\", \"Topic3\", \"Topic3\", \"Topic3\", \"Topic3\", \"Topic3\", \"Topic3\", \"Topic3\", \"Topic3\", \"Topic3\", \"Topic3\", \"Topic3\", \"Topic3\", \"Topic3\", \"Topic3\", \"Topic3\", \"Topic3\", \"Topic3\", \"Topic3\", \"Topic3\", \"Topic3\", \"Topic3\", \"Topic3\", \"Topic3\", \"Topic3\", \"Topic3\", \"Topic3\", \"Topic3\", \"Topic3\", \"Topic3\", \"Topic3\", \"Topic3\", \"Topic3\", \"Topic3\", \"Topic3\", \"Topic3\", \"Topic3\", \"Topic3\", \"Topic3\", \"Topic3\", \"Topic3\", \"Topic3\", \"Topic3\", \"Topic3\", \"Topic3\", \"Topic3\", \"Topic4\", \"Topic4\", \"Topic4\", \"Topic4\", \"Topic4\", \"Topic4\", \"Topic4\", \"Topic4\", \"Topic4\", \"Topic4\", \"Topic4\", \"Topic4\", \"Topic4\", \"Topic4\", \"Topic4\", \"Topic4\", \"Topic4\", \"Topic4\", \"Topic4\", \"Topic4\", \"Topic4\", \"Topic4\", \"Topic4\", \"Topic4\", \"Topic4\", \"Topic4\", \"Topic4\", \"Topic4\", \"Topic4\", \"Topic4\", \"Topic4\", \"Topic4\", \"Topic4\", \"Topic4\", \"Topic4\", \"Topic4\", \"Topic4\", \"Topic4\", \"Topic4\", \"Topic4\", \"Topic4\", \"Topic4\", \"Topic4\", \"Topic4\", \"Topic4\", \"Topic4\", \"Topic4\", \"Topic4\", \"Topic4\", \"Topic4\", \"Topic4\", \"Topic4\", \"Topic4\", \"Topic4\", \"Topic4\", \"Topic4\"], \"logprob\": [30.0, 29.0, 28.0, 27.0, 26.0, 25.0, 24.0, 23.0, 22.0, 21.0, 20.0, 19.0, 18.0, 17.0, 16.0, 15.0, 14.0, 13.0, 12.0, 11.0, 10.0, 9.0, 8.0, 7.0, 6.0, 5.0, 4.0, 3.0, 2.0, 1.0, -5.5719, -5.573, -5.7833, -5.7837, -5.784, -6.0512, -6.0517, -6.0519, -6.0521, -6.0522, -6.0524, -6.053, -6.0812, -6.4189, -6.4189, -6.4189, -6.4192, -6.4192, -6.4192, -6.4192, -6.4193, -6.4193, -6.4193, -6.4194, -6.4194, -6.4195, -6.4196, -6.4196, -6.4197, -6.4197, -4.5035, -5.571, -5.2486, -6.0359, -6.0513, -6.0515, -6.052, -6.0516, -6.0519, -6.0761, -6.0822, -5.1171, -6.0515, -6.051, -6.0514, -6.0523, -5.7809, -6.051, -6.0517, -6.0514, -6.0504, -6.0505, -6.0517, -6.0517, -6.0517, -5.5456, -5.7568, -5.7579, -5.7584, -6.0251, -6.0253, -6.0256, -6.026, -6.0261, -6.0262, -6.0265, -6.0265, -6.0272, -6.0311, -6.3926, -6.3927, -6.3928, -6.3928, -6.3928, -6.3928, -6.3929, -6.393, -6.3931, -6.3932, -6.3932, -6.3933, -6.3933, -6.3934, -6.3935, -6.3935, -5.757, -5.5456, -5.7572, -5.7574, -5.0928, -6.0256, -6.0292, -5.3707, -6.0249, -6.0247, -6.0301, -5.3743, -6.0278, -5.7606, -6.0251, -6.0331, -6.0249, -6.0243, -6.0244, -6.0247, -6.0252, -5.0404, -5.7027, -5.7033, -5.9711, -5.9723, -5.9725, -5.9726, -5.9727, -5.9727, -5.9728, -6.3385, -6.3385, -6.3385, -6.3386, -6.339, -6.3392, -6.3393, -6.3393, -6.3395, -6.3395, -6.3395, -6.3398, -6.3401, -6.3401, -6.3401, -6.3401, -6.3401, -6.3401, -6.3402, -6.3402, -4.8226, -5.7026, -5.7043, -5.9716, -5.9721, -5.4919, -5.4935, -5.9946, -5.7019, -5.7019, -5.9708, -5.7021, -5.9706, -5.971, -5.7238, -5.9712, -5.9717, -5.9716, -5.9757, -6.3321, -6.3296, -5.9625, -5.9631, -5.9632, -5.9638, -6.33, -6.3301, -6.3301, -6.3301, -6.3301, -6.3301, -6.3302, -6.3303, -6.3303, -6.3303, -6.3303, -6.3303, -6.3304, -6.3304, -6.3304, -6.3304, -6.3304, -6.3306, -6.3307, -6.3307, -6.3307, -6.3308, -6.3308, -6.3309, -6.3309, -6.331, -5.6945, -4.6338, -5.9501, -5.9628, -5.9617, -5.9618, -5.9619, -5.6886, -5.963, -5.6938, -5.9624, -5.9628, -5.9621, -5.9606, -5.9611, -5.6924, -5.9631, -5.9627, -5.9612, -5.9613, -5.9622, -5.9631, -6.3232, -6.3287, -6.3289, -6.3291], \"loglift\": [30.0, 29.0, 28.0, 27.0, 26.0, 25.0, 24.0, 23.0, 22.0, 21.0, 20.0, 19.0, 18.0, 17.0, 16.0, 15.0, 14.0, 13.0, 12.0, 11.0, 10.0, 9.0, 8.0, 7.0, 6.0, 5.0, 4.0, 3.0, 2.0, 1.0, 1.1833, 1.1822, 1.1551, 1.1547, 1.1544, 1.1116, 1.1112, 1.1109, 1.1107, 1.1106, 1.1104, 1.1099, 1.0826, 1.0337, 1.0337, 1.0337, 1.0335, 1.0335, 1.0335, 1.0334, 1.0334, 1.0334, 1.0333, 1.0333, 1.0332, 1.0332, 1.0331, 1.0331, 1.033, 1.0329, 1.0054, 0.7929, 0.6672, 0.9048, 0.8969, 0.8954, 0.8949, 0.8892, 0.8888, 0.8729, 0.8669, 0.0515, 0.7201, 0.7195, 0.7129, 0.7068, 0.3856, 0.5696, 0.568, 0.5595, -0.0467, -0.0473, 0.3115, 0.3226, 0.5645, 1.2194, 1.1909, 1.1899, 1.1894, 1.1465, 1.1463, 1.1461, 1.1457, 1.1456, 1.1454, 1.1452, 1.1451, 1.1445, 1.1405, 1.0679, 1.0678, 1.0677, 1.0677, 1.0677, 1.0677, 1.0676, 1.0675, 1.0674, 1.0673, 1.0673, 1.0672, 1.0672, 1.0672, 1.0671, 1.067, 1.0061, 0.8235, 0.8622, 0.8559, 0.5819, 0.9284, 0.9262, 0.4881, 0.7516, 0.7446, 0.731, -0.2057, 0.5918, 0.1553, 0.338, 0.3396, 0.241, -0.0211, 0.1472, -0.021, 0.2401, 1.3461, 1.2702, 1.2695, 1.224, 1.2228, 1.2226, 1.2225, 1.2224, 1.2224, 1.2222, 1.1429, 1.1429, 1.1429, 1.1428, 1.1424, 1.1422, 1.1421, 1.142, 1.1419, 1.1419, 1.1419, 1.1416, 1.1413, 1.1413, 1.1413, 1.1413, 1.1413, 1.1412, 1.1412, 1.1412, 1.1214, 0.9295, 0.924, 0.995, 0.992, 0.7845, 0.7767, 0.9689, 0.7874, 0.569, 0.8078, 0.301, 0.657, 0.6512, 0.1349, 0.5174, 0.3973, 0.0321, -0.8071, 0.8647, 0.6384, 1.2377, 1.2371, 1.2369, 1.2364, 1.1559, 1.1558, 1.1558, 1.1558, 1.1558, 1.1557, 1.1557, 1.1556, 1.1556, 1.1556, 1.1556, 1.1555, 1.1555, 1.1555, 1.1555, 1.1555, 1.1555, 1.1553, 1.1552, 1.1552, 1.1552, 1.1551, 1.1551, 1.155, 1.1549, 1.1548, 1.0938, 0.5349, 1.0208, 1.0077, 1.0064, 1.0064, 1.0063, 0.5818, 0.8262, 0.5721, 0.8175, 0.6605, 0.5366, 0.5273, 0.5268, -0.0178, 0.4112, 0.3025, 0.2104, 0.2052, 0.0415, -0.4543, -0.4074, -0.0522, 0.638, 0.2916]}, \"token.table\": {\"Topic\": [2, 3, 2, 1, 4, 2, 1, 4, 1, 2, 3, 4, 3, 4, 1, 3, 4, 2, 3, 3, 1, 2, 4, 2, 3, 3, 4, 1, 1, 2, 4, 1, 1, 4, 1, 1, 2, 4, 2, 3, 4, 1, 3, 1, 2, 3, 2, 3, 4, 4, 1, 1, 2, 1, 1, 4, 1, 2, 3, 4, 4, 1, 2, 3, 4, 3, 4, 1, 1, 3, 4, 4, 4, 2, 3, 4, 4, 2, 3, 4, 3, 1, 2, 1, 1, 1, 4, 1, 3, 4, 3, 1, 4, 1, 3, 4, 1, 2, 3, 1, 3, 4, 4, 1, 1, 3, 4, 2, 1, 2, 3, 4, 1, 2, 3, 2, 4, 4, 3, 1, 4, 4, 2, 1, 2, 1, 3, 2, 2, 1, 2, 2, 3, 4, 1, 3, 4, 4, 1, 4, 1, 4, 4, 4, 2, 3, 3, 2, 1, 3, 4, 2, 3, 4, 2, 1, 3, 1, 4, 1, 2, 3, 4, 1, 2, 4, 1, 1, 2, 3, 4, 1, 2, 3, 4, 2, 2, 1, 2, 1, 2, 3, 4, 2, 2, 4, 1, 3, 1, 2, 3, 2, 2, 3, 1, 2, 3, 4, 3, 2, 1, 1, 2, 3, 4, 3, 1, 4, 1, 4, 4, 3, 1, 1, 2, 4, 3, 3, 1, 4, 4, 1, 2, 4, 1, 3, 1, 2, 1, 3, 3, 1, 2, 3, 4, 4, 2, 1, 2, 3, 4, 3, 2, 3, 3, 2, 2, 4, 2, 1, 2, 4, 3, 2, 2, 3, 4, 1, 1, 2, 3, 1, 2, 4, 2, 3, 2, 2, 3, 4, 2, 4, 1, 2, 3, 1, 1, 2, 3, 1, 2, 4, 2, 1, 2, 3, 4, 1, 1, 3, 4, 2, 4, 3, 1, 1, 3, 3, 1, 4, 1, 2, 1, 1, 2, 3, 4, 4, 1, 2, 3, 4, 2, 3, 4, 1, 2, 4, 4], \"Freq\": [0.6489171215523926, 0.3244585607761963, 0.5384291199281339, 0.6451581504477013, 0.32257907522385065, 0.9673421045348249, 0.3290862328334989, 0.6581724656669978, 0.44287959278951267, 0.14762653092983755, 0.14762653092983755, 0.2952530618596751, 0.9918624386435536, 0.5522581638925799, 0.5342106930221183, 0.8258416104610762, 0.5522637593980604, 0.538418901124266, 0.8258468431588047, 0.5497667984607228, 0.4604041059684368, 0.2302020529842184, 0.2302020529842184, 0.9672958303832301, 0.5497809890309356, 0.41361807902853637, 0.41361807902853637, 0.5342140355433569, 0.23222489743686572, 0.46444979487373145, 0.23222489743686572, 0.5342152608236593, 0.5342117882739358, 0.5522488581682692, 0.7995837150912463, 0.2697414606423211, 0.5394829212846421, 0.2697414606423211, 0.8066881485345249, 0.5497765609592106, 0.8300090096811222, 0.799585574894655, 0.8257957594875439, 0.534015013684323, 0.2670075068421615, 0.5497759174742846, 0.2751623884941001, 0.2751623884941001, 0.5503247769882001, 0.5522662279363293, 0.9582705606991022, 0.5342189240767291, 0.8066349879081648, 0.5342096309017846, 0.5407171349318227, 0.27035856746591136, 0.7647826837953638, 0.07647826837953638, 0.07647826837953638, 0.15295653675907275, 0.5522467935131159, 0.18142554646369186, 0.3628510929273837, 0.18142554646369186, 0.18142554646369186, 0.5497869116126719, 0.5522582300043037, 0.53421417021185, 0.5395257265188323, 0.17984190883961076, 0.17984190883961076, 0.552263697971872, 0.5522629886420133, 0.11818246723566204, 0.7090948034139722, 0.11818246723566204, 0.5522604036660972, 0.806686825375718, 0.9197561199628792, 0.5522549604533277, 0.825819272360895, 0.7978542847188603, 0.80670143911153, 0.5342083374694203, 0.9582544488504694, 0.6457350659704241, 0.32286753298521204, 0.363424413925539, 0.1817122069627695, 0.363424413925539, 0.5497787113745419, 0.32908695871383187, 0.6581739174276637, 0.328658628095302, 0.328658628095302, 0.328658628095302, 0.23282839665688299, 0.23282839665688299, 0.46565679331376597, 0.5401293797386473, 0.27006468986932364, 0.27006468986932364, 0.5522620809982564, 0.7995964379532201, 0.4074615440357453, 0.4074615440357453, 0.20373077201787265, 0.8066859123968063, 0.16375007610413816, 0.16375007610413816, 0.4912502283124145, 0.16375007610413816, 0.2307735280205191, 0.6923205840615573, 0.2307735280205191, 0.3299796793671237, 0.6599593587342474, 0.5522532233634865, 0.8258096060428861, 0.7978888589493073, 0.5522591369725031, 0.5522549114432045, 0.9673285824327923, 0.2675159443097933, 0.5350318886195866, 0.6443162036604364, 0.3221581018302182, 0.8066871046471825, 0.5384197109651552, 0.7995886658445134, 0.5384274380333759, 0.542299733659691, 0.3615331557731273, 0.552256633692041, 0.46494734022539186, 0.23247367011269593, 0.23247367011269593, 0.5522565216920162, 0.274911095677494, 0.8247332870324819, 0.5342096500705721, 0.8300136575267928, 0.5522589928989712, 0.5522636388785542, 0.5384282205647691, 0.5497875827436174, 0.5497877996149579, 0.5384235073175879, 0.4645108640892631, 0.23225543204463156, 0.23225543204463156, 0.2057888588589109, 0.2057888588589109, 0.4115777177178218, 0.8066723279625203, 0.6443096894207899, 0.32215484471039496, 0.7995985217075633, 0.552263857319869, 0.23410250011990294, 0.23410250011990294, 0.4682050002398059, 0.23410250011990294, 0.46289159758713283, 0.23144579879356642, 0.23144579879356642, 0.5342050709813756, 0.25087203522469387, 0.25087203522469387, 0.25087203522469387, 0.25087203522469387, 0.1085138048092399, 0.4340552192369596, 0.3255414144277197, 0.1085138048092399, 0.806722305450444, 0.5384264593745361, 0.6403741581171638, 0.3201870790585819, 0.2507424736555878, 0.2507424736555878, 0.3761137104833817, 0.1253712368277939, 0.8066733444519838, 0.6498339184144717, 0.32491695920723584, 0.8004398503122272, 0.5497809944133467, 0.5367720059505343, 0.26838600297526716, 0.26838600297526716, 0.5384273381879127, 0.3285492973226071, 0.6570985946452143, 0.16377743280481055, 0.3275548656096211, 0.16377743280481055, 0.4913322984144317, 0.5497634412912865, 0.5384238101684699, 0.5342124619527275, 0.1629454171386815, 0.325890834277363, 0.1629454171386815, 0.325890834277363, 0.9918440048936179, 0.9582602712065518, 0.5522499540727515, 0.3290874557420002, 0.6581749114840004, 0.5522639303724263, 0.5497689185361646, 0.5342062857876079, 0.2330922967804038, 0.2330922967804038, 0.4661845935608076, 0.5497727359506506, 0.5497875636708387, 0.6456315201551243, 0.32281576007756213, 0.5522625035897167, 0.16305449644963257, 0.32610899289926515, 0.4891634893488977, 0.5342052668380203, 0.5497748522906586, 0.6403735811813466, 0.3201867905906733, 0.32775030522788834, 0.6555006104557767, 0.5497922907365412, 0.18053326033682318, 0.451333150842058, 0.09026663016841159, 0.2707998905052348, 0.5522639533821271, 0.5384313092544071, 0.272118956218126, 0.21769516497450078, 0.10884758248725039, 0.38096653870537633, 0.8257919123302305, 0.23426122552293285, 0.7027836765687986, 0.5497680240521677, 0.5384235560679388, 0.3298697447717812, 0.6597394895435624, 0.8066654194975554, 0.20358339733085196, 0.20358339733085196, 0.4071667946617039, 0.8258053762066283, 0.5384253351336588, 0.32899749156372843, 0.32899749156372843, 0.32899749156372843, 0.7995709587906356, 0.2680615920385733, 0.8041847761157199, 0.549764617004287, 0.2035802096473557, 0.2035802096473557, 0.4071604192947114, 0.5384179691643627, 0.549774809595947, 0.5384207853058508, 0.543361684076217, 0.2716808420381085, 0.2716808420381085, 0.5384321692992604, 0.8300253408926646, 0.7996093556777824, 0.6965387570174751, 0.23217958567249172, 0.5342086532392567, 0.27226166653934114, 0.27226166653934114, 0.5445233330786823, 0.35940201323529425, 0.35940201323529425, 0.17970100661764712, 0.8056937467064299, 0.16386270462742797, 0.16386270462742797, 0.49158811388228396, 0.16386270462742797, 0.5342055811650841, 0.2351534512671394, 0.7054603538014182, 0.2351534512671394, 0.5384185352431569, 0.5522656151546846, 0.5497784822615402, 0.5342118907671216, 0.32754463345782464, 0.6550892669156493, 0.5497644036178477, 0.2726165968277945, 0.545233193655589, 0.6403185580541607, 0.32015927902708036, 0.5342048892519503, 0.20386832972884705, 0.20386832972884705, 0.6116049891865412, 0.8300418601435898, 0.5522659388101221, 0.14837345572538096, 0.29674691145076193, 0.14837345572538096, 0.29674691145076193, 0.16477327314372317, 0.49431981943116954, 0.16477327314372317, 0.574437942473046, 0.3446627654838276, 0.11488758849460921, 0.5522592266826294], \"Term\": [\"100\", \"100\", \"abby\", \"action\", \"action\", \"airport\", \"allegation\", \"allegation\", \"also\", \"also\", \"also\", \"also\", \"andrea\", \"answer\", \"appeared\", \"area\", \"assured\", \"attacker\", \"audrey\", \"azarenka\", \"back\", \"back\", \"back\", \"balotelli\", \"bath\", \"beat\", \"beat\", \"bee\", \"belief\", \"belief\", \"belief\", \"bernard\", \"boiler\", \"born\", \"bour\", \"boy\", \"boy\", \"boy\", \"bragg\", \"broke\", \"brown\", \"burbridge\", \"button\", \"called\", \"called\", \"came\", \"car\", \"car\", \"car\", \"carter\", \"case\", \"chakvetadze\", \"champion\", \"change\", \"charged\", \"charged\", \"child\", \"child\", \"child\", \"child\", \"citizen\", \"city\", \"city\", \"city\", \"city\", \"civil\", \"claiming\", \"cold\", \"come\", \"come\", \"come\", \"cordingley\", \"cosby\", \"could\", \"could\", \"could\", \"country\", \"cruz\", \"day\", \"decide\", \"drunk\", \"egg\", \"ethiopian\", \"evidence\", \"exam\", \"expert\", \"expert\", \"face\", \"face\", \"face\", \"facebook\", \"father\", \"father\", \"filed\", \"filed\", \"filed\", \"first\", \"first\", \"first\", \"five\", \"five\", \"five\", \"followed\", \"food\", \"former\", \"former\", \"former\", \"fort\", \"found\", \"found\", \"found\", \"found\", \"four\", \"four\", \"four\", \"free\", \"free\", \"french\", \"g4s\", \"garrison\", \"george\", \"girl\", \"governor\", \"group\", \"group\", \"guilty\", \"guilty\", \"hayes\", \"henry\", \"hillard\", \"holbrook\", \"home\", \"home\", \"hostin\", \"house\", \"house\", \"house\", \"investigation\", \"january\", \"january\", \"josh\", \"judge\", \"jury\", \"kennedy\", \"kill\", \"labor\", \"leader\", \"london\", \"made\", \"made\", \"made\", \"make\", \"make\", \"make\", \"mark\", \"member\", \"member\", \"michael\", \"michelle\", \"month\", \"month\", \"month\", \"month\", \"mother\", \"mother\", \"mother\", \"movie\", \"n't\", \"n't\", \"n't\", \"n't\", \"new\", \"new\", \"new\", \"new\", \"newman\", \"nothing\", \"obama\", \"obama\", \"one\", \"one\", \"one\", \"one\", \"osilka\", \"paid\", \"paid\", \"parent\", \"park\", \"part\", \"part\", \"part\", \"party\", \"pay\", \"pay\", \"people\", \"people\", \"people\", \"people\", \"play\", \"played\", \"pleaded\", \"police\", \"police\", \"police\", \"police\", \"pool\", \"pornography\", \"possible\", \"post\", \"post\", \"present\", \"price\", \"priest\", \"prison\", \"prison\", \"prison\", \"private\", \"protester\", \"pupil\", \"pupil\", \"rape\", \"report\", \"report\", \"report\", \"reporting\", \"rescue\", \"return\", \"return\", \"reveals\", \"reveals\", \"rio\", \"said\", \"said\", \"said\", \"said\", \"santa\", \"savile\", \"say\", \"say\", \"say\", \"say\", \"screen\", \"security\", \"security\", \"seed\", \"senegal\", \"sentenced\", \"sentenced\", \"shot\", \"show\", \"show\", \"show\", \"skin\", \"soulja\", \"south\", \"south\", \"south\", \"spoke\", \"star\", \"star\", \"started\", \"state\", \"state\", \"state\", \"sterling\", \"stingray\", \"striker\", \"sunday\", \"sunday\", \"sunday\", \"superman\", \"system\", \"tacopina\", \"tax\", \"tax\", \"temperature\", \"three\", \"three\", \"three\", \"told\", \"told\", \"told\", \"truman\", \"two\", \"two\", \"two\", \"two\", \"united\", \"used\", \"used\", \"used\", \"utah\", \"violet\", \"wait\", \"warmer\", \"warned\", \"warned\", \"wenman\", \"white\", \"white\", \"win\", \"win\", \"winsor\", \"woman\", \"woman\", \"woman\", \"work\", \"worker\", \"world\", \"world\", \"world\", \"world\", \"would\", \"would\", \"would\", \"year\", \"year\", \"year\", \"zimmerman\"]}, \"R\": 30, \"lambda.step\": 0.01, \"plot.opts\": {\"xlab\": \"PC1\", \"ylab\": \"PC2\"}, \"topic.order\": [3, 1, 4, 2]};\n",
       "\n",
       "function LDAvis_load_lib(url, callback){\n",
       "  var s = document.createElement('script');\n",
       "  s.src = url;\n",
       "  s.async = true;\n",
       "  s.onreadystatechange = s.onload = callback;\n",
       "  s.onerror = function(){console.warn(\"failed to load library \" + url);};\n",
       "  document.getElementsByTagName(\"head\")[0].appendChild(s);\n",
       "}\n",
       "\n",
       "if(typeof(LDAvis) !== \"undefined\"){\n",
       "   // already loaded: just create the visualization\n",
       "   !function(LDAvis){\n",
       "       new LDAvis(\"#\" + \"ldavis_el85571325842724296808833026593\", ldavis_el85571325842724296808833026593_data);\n",
       "   }(LDAvis);\n",
       "}else if(typeof define === \"function\" && define.amd){\n",
       "   // require.js is available: use it to load d3/LDAvis\n",
       "   require.config({paths: {d3: \"https://d3js.org/d3.v5\"}});\n",
       "   require([\"d3\"], function(d3){\n",
       "      window.d3 = d3;\n",
       "      LDAvis_load_lib(\"https://cdn.jsdelivr.net/gh/bmabey/pyLDAvis@3.4.0/pyLDAvis/js/ldavis.v3.0.0.js\", function(){\n",
       "        new LDAvis(\"#\" + \"ldavis_el85571325842724296808833026593\", ldavis_el85571325842724296808833026593_data);\n",
       "      });\n",
       "    });\n",
       "}else{\n",
       "    // require.js not available: dynamically load d3 & LDAvis\n",
       "    LDAvis_load_lib(\"https://d3js.org/d3.v5.js\", function(){\n",
       "         LDAvis_load_lib(\"https://cdn.jsdelivr.net/gh/bmabey/pyLDAvis@3.4.0/pyLDAvis/js/ldavis.v3.0.0.js\", function(){\n",
       "                 new LDAvis(\"#\" + \"ldavis_el85571325842724296808833026593\", ldavis_el85571325842724296808833026593_data);\n",
       "            })\n",
       "         });\n",
       "}\n",
       "</script>"
      ],
      "text/plain": [
       "PreparedData(topic_coordinates=              x         y  topics  cluster       Freq\n",
       "topic                                                \n",
       "2      0.091185 -0.044644       1        1  26.904617\n",
       "0     -0.057231  0.092214       2        1  25.898338\n",
       "3     -0.082996 -0.088469       3        1  23.779753\n",
       "1      0.049042  0.040899       4        1  23.417293, topic_info=        Term       Freq      Total Category  logprob  loglift\n",
       "244    child  13.000000  13.000000  Default  30.0000  30.0000\n",
       "106      day   5.000000   5.000000  Default  29.0000  29.0000\n",
       "599    could   8.000000   8.000000  Default  28.0000  28.0000\n",
       "1835  truman   3.000000   3.000000  Default  27.0000  27.0000\n",
       "535      egg   3.000000   3.000000  Default  26.0000  26.0000\n",
       "...      ...        ...        ...      ...      ...      ...\n",
       "244    child   1.944054  13.075610   Topic4  -5.9631  -0.4543\n",
       "39      year   1.356245   8.704160   Topic4  -6.3232  -0.4074\n",
       "378    would   1.348865   6.068945   Topic4  -6.3287  -0.0522\n",
       "142    filed   1.348562   3.042671   Topic4  -6.3289   0.6380\n",
       "262    house   1.348303   4.301562   Topic4  -6.3291   0.2916\n",
       "\n",
       "[243 rows x 6 columns], token_table=      Topic      Freq       Term\n",
       "term                            \n",
       "64        2  0.648917        100\n",
       "64        3  0.324459        100\n",
       "1726      2  0.538429       abby\n",
       "618       1  0.645158     action\n",
       "618       4  0.322579     action\n",
       "...     ...       ...        ...\n",
       "378       4  0.164773      would\n",
       "39        1  0.574438       year\n",
       "39        2  0.344663       year\n",
       "39        4  0.114888       year\n",
       "2031      4  0.552259  zimmerman\n",
       "\n",
       "[319 rows x 3 columns], R=30, lambda_step=0.01, plot_opts={'xlab': 'PC1', 'ylab': 'PC2'}, topic_order=[3, 1, 4, 2])"
      ]
     },
     "execution_count": 34,
     "metadata": {},
     "output_type": "execute_result"
    }
   ],
   "source": [
    "plot_lda_vis(lda_model, bow_corpus, dic)\n"
   ]
  },
  {
   "cell_type": "markdown",
   "id": "X2WUNzder8mP",
   "metadata": {
    "id": "X2WUNzder8mP"
   },
   "source": [
    "## Polarisation of articles"
   ]
  },
  {
   "cell_type": "markdown",
   "id": "PXTgMfkikguY",
   "metadata": {
    "id": "PXTgMfkikguY"
   },
   "source": [
    "**Creating seperate column alligned to polarity of article and summary**"
   ]
  },
  {
   "cell_type": "code",
   "execution_count": 35,
   "id": "aJhvqmcNrLCG",
   "metadata": {
    "colab": {
     "base_uri": "https://localhost:8080/",
     "height": 697
    },
    "id": "aJhvqmcNrLCG",
    "outputId": "895d585f-f93c-443f-890a-152909486aed"
   },
   "outputs": [
    {
     "name": "stderr",
     "output_type": "stream",
     "text": [
      "/usr/local/lib/python3.10/dist-packages/ipykernel/ipkernel.py:283: DeprecationWarning: `should_run_async` will not call `transform_cell` automatically in the future. Please pass the result to `transformed_cell` argument and any exception that happen during thetransform in `preprocessing_exc_tuple` in IPython 7.17 and above.\n",
      "  and should_run_async(code)\n"
     ]
    },
    {
     "data": {
      "text/html": [
       "\n",
       "\n",
       "  <div id=\"df-9fd224b1-a950-4e92-a8ea-2457f693a855\">\n",
       "    <div class=\"colab-df-container\">\n",
       "      <div>\n",
       "<style scoped>\n",
       "    .dataframe tbody tr th:only-of-type {\n",
       "        vertical-align: middle;\n",
       "    }\n",
       "\n",
       "    .dataframe tbody tr th {\n",
       "        vertical-align: top;\n",
       "    }\n",
       "\n",
       "    .dataframe thead th {\n",
       "        text-align: right;\n",
       "    }\n",
       "</style>\n",
       "<table border=\"1\" class=\"dataframe\">\n",
       "  <thead>\n",
       "    <tr style=\"text-align: right;\">\n",
       "      <th></th>\n",
       "      <th>article</th>\n",
       "      <th>summary</th>\n",
       "      <th>lemmatized_article</th>\n",
       "      <th>lemmatized_asummary</th>\n",
       "      <th>polarity_article</th>\n",
       "      <th>polarity_summary</th>\n",
       "    </tr>\n",
       "  </thead>\n",
       "  <tbody>\n",
       "    <tr>\n",
       "      <th>0</th>\n",
       "      <td>by . jonathan petre . and jo knowsley . warnin...</td>\n",
       "      <td>education secretary michael gove warned about ...</td>\n",
       "      <td>. jonathan petre . jo knowsley . warn : michae...</td>\n",
       "      <td>education secretary michael gove warn ' dumbe ...</td>\n",
       "      <td>0.115561</td>\n",
       "      <td>0.300000</td>\n",
       "    </tr>\n",
       "    <tr>\n",
       "      <th>1</th>\n",
       "      <td>an austrian girl has said she feels she 'can r...</td>\n",
       "      <td>sabina selimovic spoke via text message to par...</td>\n",
       "      <td>austrian girl say feel ' free ' radical - call...</td>\n",
       "      <td>sabina selimovic speak text message paris matc...</td>\n",
       "      <td>0.142555</td>\n",
       "      <td>0.000000</td>\n",
       "    </tr>\n",
       "    <tr>\n",
       "      <th>2</th>\n",
       "      <td>british muslims are being urged to wear a new ...</td>\n",
       "      <td>£22 headscarf is backed by muslim groups as a ...</td>\n",
       "      <td>british muslims urge wear new ' poppy hijab ' ...</td>\n",
       "      <td>£ 22 headscarf back muslim group symbol rememb...</td>\n",
       "      <td>0.040761</td>\n",
       "      <td>0.000000</td>\n",
       "    </tr>\n",
       "    <tr>\n",
       "      <th>3</th>\n",
       "      <td>by . associated press reporter . officials say...</td>\n",
       "      <td>a woman's body was found on mount rainer sunda...</td>\n",
       "      <td>. associate press reporter . official search p...</td>\n",
       "      <td>woman body find mount rainer sunday general ar...</td>\n",
       "      <td>0.082845</td>\n",
       "      <td>0.041667</td>\n",
       "    </tr>\n",
       "    <tr>\n",
       "      <th>4</th>\n",
       "      <td>more issues in ferguson: former ferguson, miss...</td>\n",
       "      <td>jaris hayden, 29, will be arraigned december 3...</td>\n",
       "      <td>issue ferguson : ferguson , missouri correctio...</td>\n",
       "      <td>jaris hayden , 29 , arraign december 3 crimina...</td>\n",
       "      <td>0.061695</td>\n",
       "      <td>-0.033333</td>\n",
       "    </tr>\n",
       "    <tr>\n",
       "      <th>...</th>\n",
       "      <td>...</td>\n",
       "      <td>...</td>\n",
       "      <td>...</td>\n",
       "      <td>...</td>\n",
       "      <td>...</td>\n",
       "      <td>...</td>\n",
       "    </tr>\n",
       "    <tr>\n",
       "      <th>95</th>\n",
       "      <td>by . amanda williams . published: . 07:41 est,...</td>\n",
       "      <td>ms pitt had right-sided hemiplegic cerebral pa...</td>\n",
       "      <td>. amanda williams . publish : . 07:41 est , 4 ...</td>\n",
       "      <td>ms pitt right - sided hemiplegic cerebral pals...</td>\n",
       "      <td>0.085277</td>\n",
       "      <td>0.361905</td>\n",
       "    </tr>\n",
       "    <tr>\n",
       "      <th>96</th>\n",
       "      <td>(cnn) -- like a viper that slithers through th...</td>\n",
       "      <td>charles garcia: a judge ruled that children of...</td>\n",
       "      <td>( cnn ) -- like viper slither garden -- unseen...</td>\n",
       "      <td>charles garcia : judge rule child immigrant fl...</td>\n",
       "      <td>0.007537</td>\n",
       "      <td>0.033333</td>\n",
       "    </tr>\n",
       "    <tr>\n",
       "      <th>97</th>\n",
       "      <td>washington (cnn) -- a 5-year-old's birthday pa...</td>\n",
       "      <td>white house report says stimulus bill achieved...</td>\n",
       "      <td>washington ( cnn ) -- 5 - year - old birthday ...</td>\n",
       "      <td>white house report say stimulus bill achieve g...</td>\n",
       "      <td>0.086057</td>\n",
       "      <td>-0.200000</td>\n",
       "    </tr>\n",
       "    <tr>\n",
       "      <th>98</th>\n",
       "      <td>by . chris pleasance for mailonline . two men ...</td>\n",
       "      <td>two men  arrested in south africa after man pe...</td>\n",
       "      <td>. chris pleasance mailonline . man south afric...</td>\n",
       "      <td>man   arrest south africa man pelt death orang...</td>\n",
       "      <td>-0.065192</td>\n",
       "      <td>-0.050000</td>\n",
       "    </tr>\n",
       "    <tr>\n",
       "      <th>99</th>\n",
       "      <td>new york (cnn) -- northeast florida state atto...</td>\n",
       "      <td>sunny hostin: the state attorney has made it c...</td>\n",
       "      <td>new york ( cnn ) -- northeast florida state at...</td>\n",
       "      <td>sunny hostin : state attorney clear decide cha...</td>\n",
       "      <td>0.147251</td>\n",
       "      <td>0.037500</td>\n",
       "    </tr>\n",
       "  </tbody>\n",
       "</table>\n",
       "<p>100 rows × 6 columns</p>\n",
       "</div>\n",
       "      <button class=\"colab-df-convert\" onclick=\"convertToInteractive('df-9fd224b1-a950-4e92-a8ea-2457f693a855')\"\n",
       "              title=\"Convert this dataframe to an interactive table.\"\n",
       "              style=\"display:none;\">\n",
       "\n",
       "  <svg xmlns=\"http://www.w3.org/2000/svg\" height=\"24px\"viewBox=\"0 0 24 24\"\n",
       "       width=\"24px\">\n",
       "    <path d=\"M0 0h24v24H0V0z\" fill=\"none\"/>\n",
       "    <path d=\"M18.56 5.44l.94 2.06.94-2.06 2.06-.94-2.06-.94-.94-2.06-.94 2.06-2.06.94zm-11 1L8.5 8.5l.94-2.06 2.06-.94-2.06-.94L8.5 2.5l-.94 2.06-2.06.94zm10 10l.94 2.06.94-2.06 2.06-.94-2.06-.94-.94-2.06-.94 2.06-2.06.94z\"/><path d=\"M17.41 7.96l-1.37-1.37c-.4-.4-.92-.59-1.43-.59-.52 0-1.04.2-1.43.59L10.3 9.45l-7.72 7.72c-.78.78-.78 2.05 0 2.83L4 21.41c.39.39.9.59 1.41.59.51 0 1.02-.2 1.41-.59l7.78-7.78 2.81-2.81c.8-.78.8-2.07 0-2.86zM5.41 20L4 18.59l7.72-7.72 1.47 1.35L5.41 20z\"/>\n",
       "  </svg>\n",
       "      </button>\n",
       "\n",
       "\n",
       "\n",
       "    <div id=\"df-51c44599-b532-45fe-95d4-dee999d21879\">\n",
       "      <button class=\"colab-df-quickchart\" onclick=\"quickchart('df-51c44599-b532-45fe-95d4-dee999d21879')\"\n",
       "              title=\"Suggest charts.\"\n",
       "              style=\"display:none;\">\n",
       "\n",
       "<svg xmlns=\"http://www.w3.org/2000/svg\" height=\"24px\"viewBox=\"0 0 24 24\"\n",
       "     width=\"24px\">\n",
       "    <g>\n",
       "        <path d=\"M19 3H5c-1.1 0-2 .9-2 2v14c0 1.1.9 2 2 2h14c1.1 0 2-.9 2-2V5c0-1.1-.9-2-2-2zM9 17H7v-7h2v7zm4 0h-2V7h2v10zm4 0h-2v-4h2v4z\"/>\n",
       "    </g>\n",
       "</svg>\n",
       "      </button>\n",
       "    </div>\n",
       "\n",
       "<style>\n",
       "  .colab-df-quickchart {\n",
       "    background-color: #E8F0FE;\n",
       "    border: none;\n",
       "    border-radius: 50%;\n",
       "    cursor: pointer;\n",
       "    display: none;\n",
       "    fill: #1967D2;\n",
       "    height: 32px;\n",
       "    padding: 0 0 0 0;\n",
       "    width: 32px;\n",
       "  }\n",
       "\n",
       "  .colab-df-quickchart:hover {\n",
       "    background-color: #E2EBFA;\n",
       "    box-shadow: 0px 1px 2px rgba(60, 64, 67, 0.3), 0px 1px 3px 1px rgba(60, 64, 67, 0.15);\n",
       "    fill: #174EA6;\n",
       "  }\n",
       "\n",
       "  [theme=dark] .colab-df-quickchart {\n",
       "    background-color: #3B4455;\n",
       "    fill: #D2E3FC;\n",
       "  }\n",
       "\n",
       "  [theme=dark] .colab-df-quickchart:hover {\n",
       "    background-color: #434B5C;\n",
       "    box-shadow: 0px 1px 3px 1px rgba(0, 0, 0, 0.15);\n",
       "    filter: drop-shadow(0px 1px 2px rgba(0, 0, 0, 0.3));\n",
       "    fill: #FFFFFF;\n",
       "  }\n",
       "</style>\n",
       "\n",
       "    <script>\n",
       "      async function quickchart(key) {\n",
       "        const containerElement = document.querySelector('#' + key);\n",
       "        const charts = await google.colab.kernel.invokeFunction(\n",
       "            'suggestCharts', [key], {});\n",
       "      }\n",
       "    </script>\n",
       "\n",
       "      <script>\n",
       "\n",
       "function displayQuickchartButton(domScope) {\n",
       "  let quickchartButtonEl =\n",
       "    domScope.querySelector('#df-51c44599-b532-45fe-95d4-dee999d21879 button.colab-df-quickchart');\n",
       "  quickchartButtonEl.style.display =\n",
       "    google.colab.kernel.accessAllowed ? 'block' : 'none';\n",
       "}\n",
       "\n",
       "        displayQuickchartButton(document);\n",
       "      </script>\n",
       "      <style>\n",
       "    .colab-df-container {\n",
       "      display:flex;\n",
       "      flex-wrap:wrap;\n",
       "      gap: 12px;\n",
       "    }\n",
       "\n",
       "    .colab-df-convert {\n",
       "      background-color: #E8F0FE;\n",
       "      border: none;\n",
       "      border-radius: 50%;\n",
       "      cursor: pointer;\n",
       "      display: none;\n",
       "      fill: #1967D2;\n",
       "      height: 32px;\n",
       "      padding: 0 0 0 0;\n",
       "      width: 32px;\n",
       "    }\n",
       "\n",
       "    .colab-df-convert:hover {\n",
       "      background-color: #E2EBFA;\n",
       "      box-shadow: 0px 1px 2px rgba(60, 64, 67, 0.3), 0px 1px 3px 1px rgba(60, 64, 67, 0.15);\n",
       "      fill: #174EA6;\n",
       "    }\n",
       "\n",
       "    [theme=dark] .colab-df-convert {\n",
       "      background-color: #3B4455;\n",
       "      fill: #D2E3FC;\n",
       "    }\n",
       "\n",
       "    [theme=dark] .colab-df-convert:hover {\n",
       "      background-color: #434B5C;\n",
       "      box-shadow: 0px 1px 3px 1px rgba(0, 0, 0, 0.15);\n",
       "      filter: drop-shadow(0px 1px 2px rgba(0, 0, 0, 0.3));\n",
       "      fill: #FFFFFF;\n",
       "    }\n",
       "  </style>\n",
       "\n",
       "      <script>\n",
       "        const buttonEl =\n",
       "          document.querySelector('#df-9fd224b1-a950-4e92-a8ea-2457f693a855 button.colab-df-convert');\n",
       "        buttonEl.style.display =\n",
       "          google.colab.kernel.accessAllowed ? 'block' : 'none';\n",
       "\n",
       "        async function convertToInteractive(key) {\n",
       "          const element = document.querySelector('#df-9fd224b1-a950-4e92-a8ea-2457f693a855');\n",
       "          const dataTable =\n",
       "            await google.colab.kernel.invokeFunction('convertToInteractive',\n",
       "                                                     [key], {});\n",
       "          if (!dataTable) return;\n",
       "\n",
       "          const docLinkHtml = 'Like what you see? Visit the ' +\n",
       "            '<a target=\"_blank\" href=https://colab.research.google.com/notebooks/data_table.ipynb>data table notebook</a>'\n",
       "            + ' to learn more about interactive tables.';\n",
       "          element.innerHTML = '';\n",
       "          dataTable['output_type'] = 'display_data';\n",
       "          await google.colab.output.renderOutput(dataTable, element);\n",
       "          const docLink = document.createElement('div');\n",
       "          docLink.innerHTML = docLinkHtml;\n",
       "          element.appendChild(docLink);\n",
       "        }\n",
       "      </script>\n",
       "    </div>\n",
       "  </div>\n"
      ],
      "text/plain": [
       "                                              article  \\\n",
       "0   by . jonathan petre . and jo knowsley . warnin...   \n",
       "1   an austrian girl has said she feels she 'can r...   \n",
       "2   british muslims are being urged to wear a new ...   \n",
       "3   by . associated press reporter . officials say...   \n",
       "4   more issues in ferguson: former ferguson, miss...   \n",
       "..                                                ...   \n",
       "95  by . amanda williams . published: . 07:41 est,...   \n",
       "96  (cnn) -- like a viper that slithers through th...   \n",
       "97  washington (cnn) -- a 5-year-old's birthday pa...   \n",
       "98  by . chris pleasance for mailonline . two men ...   \n",
       "99  new york (cnn) -- northeast florida state atto...   \n",
       "\n",
       "                                              summary  \\\n",
       "0   education secretary michael gove warned about ...   \n",
       "1   sabina selimovic spoke via text message to par...   \n",
       "2   £22 headscarf is backed by muslim groups as a ...   \n",
       "3   a woman's body was found on mount rainer sunda...   \n",
       "4   jaris hayden, 29, will be arraigned december 3...   \n",
       "..                                                ...   \n",
       "95  ms pitt had right-sided hemiplegic cerebral pa...   \n",
       "96  charles garcia: a judge ruled that children of...   \n",
       "97  white house report says stimulus bill achieved...   \n",
       "98  two men  arrested in south africa after man pe...   \n",
       "99  sunny hostin: the state attorney has made it c...   \n",
       "\n",
       "                                   lemmatized_article  \\\n",
       "0   . jonathan petre . jo knowsley . warn : michae...   \n",
       "1   austrian girl say feel ' free ' radical - call...   \n",
       "2   british muslims urge wear new ' poppy hijab ' ...   \n",
       "3   . associate press reporter . official search p...   \n",
       "4   issue ferguson : ferguson , missouri correctio...   \n",
       "..                                                ...   \n",
       "95  . amanda williams . publish : . 07:41 est , 4 ...   \n",
       "96  ( cnn ) -- like viper slither garden -- unseen...   \n",
       "97  washington ( cnn ) -- 5 - year - old birthday ...   \n",
       "98  . chris pleasance mailonline . man south afric...   \n",
       "99  new york ( cnn ) -- northeast florida state at...   \n",
       "\n",
       "                                  lemmatized_asummary  polarity_article  \\\n",
       "0   education secretary michael gove warn ' dumbe ...          0.115561   \n",
       "1   sabina selimovic speak text message paris matc...          0.142555   \n",
       "2   £ 22 headscarf back muslim group symbol rememb...          0.040761   \n",
       "3   woman body find mount rainer sunday general ar...          0.082845   \n",
       "4   jaris hayden , 29 , arraign december 3 crimina...          0.061695   \n",
       "..                                                ...               ...   \n",
       "95  ms pitt right - sided hemiplegic cerebral pals...          0.085277   \n",
       "96  charles garcia : judge rule child immigrant fl...          0.007537   \n",
       "97  white house report say stimulus bill achieve g...          0.086057   \n",
       "98  man   arrest south africa man pelt death orang...         -0.065192   \n",
       "99  sunny hostin : state attorney clear decide cha...          0.147251   \n",
       "\n",
       "    polarity_summary  \n",
       "0           0.300000  \n",
       "1           0.000000  \n",
       "2           0.000000  \n",
       "3           0.041667  \n",
       "4          -0.033333  \n",
       "..               ...  \n",
       "95          0.361905  \n",
       "96          0.033333  \n",
       "97         -0.200000  \n",
       "98         -0.050000  \n",
       "99          0.037500  \n",
       "\n",
       "[100 rows x 6 columns]"
      ]
     },
     "execution_count": 35,
     "metadata": {},
     "output_type": "execute_result"
    }
   ],
   "source": [
    "from textblob import TextBlob\n",
    "df1_lower['polarity_article']=df1_lower['lemmatized_article'].apply(lambda x:TextBlob(x).sentiment.polarity)\n",
    "df1_lower['polarity_summary']=df1_lower['lemmatized_asummary'].apply(lambda x:TextBlob(x).sentiment.polarity)\n",
    "df1_lower"
   ]
  },
  {
   "cell_type": "markdown",
   "id": "YZGbGKYjsyOA",
   "metadata": {
    "id": "YZGbGKYjsyOA"
   },
   "source": [
    "**Listing some of the most positive and negative articles**"
   ]
  },
  {
   "cell_type": "code",
   "execution_count": 36,
   "id": "7ihi2B_ns2RS",
   "metadata": {
    "colab": {
     "base_uri": "https://localhost:8080/"
    },
    "id": "7ihi2B_ns2RS",
    "outputId": "f0ec13b1-c94d-4384-b132-7d9b2f5772c1"
   },
   "outputs": [
    {
     "name": "stdout",
     "output_type": "stream",
     "text": [
      "3 Random articles with Highest Polarity:\n",
      "Summary 1:\n",
      " gregory allnutt bought tax-free goods from eu .\n",
      "he then sold them without vat to undercut rivals .\n",
      "raked in £4,000 a month for three years .\n",
      "now owes £420,000 in vat to the taxman .\n",
      "Summary 2:\n",
      " anna chakvetadze returns to wta action in hobart in january .\n",
      "former world no.5 collapsed on court while playing caroline wozniacki in dubai .\n",
      "chakvetadze made unsuccessful bid to win election to russia's duma .\n",
      "alex corretja named captain of spain's davis cup team .\n",
      "Summary 3:\n",
      " twitter has improved tools for reporting abuse .\n",
      "easier mobile reporting among is among the changes .\n",
      "the move comes after wave of gamergate harassment .\n"
     ]
    },
    {
     "name": "stderr",
     "output_type": "stream",
     "text": [
      "/usr/local/lib/python3.10/dist-packages/ipykernel/ipkernel.py:283: DeprecationWarning: `should_run_async` will not call `transform_cell` automatically in the future. Please pass the result to `transformed_cell` argument and any exception that happen during thetransform in `preprocessing_exc_tuple` in IPython 7.17 and above.\n",
      "  and should_run_async(code)\n"
     ]
    }
   ],
   "source": [
    "print(\"3 Random articles with Highest Polarity:\")\n",
    "for index,review in enumerate(df1_lower.iloc[df1_lower['polarity_summary'].sort_values(ascending=False)[:3].index]['summary']):\n",
    "  print('Summary {}:\\n'.format(index+1),review)"
   ]
  },
  {
   "cell_type": "markdown",
   "id": "e29m9VhslAPO",
   "metadata": {
    "id": "e29m9VhslAPO"
   },
   "source": [
    "**Plotting plortiy of articles**"
   ]
  },
  {
   "cell_type": "code",
   "execution_count": 37,
   "id": "BNXsANr7tp4B",
   "metadata": {
    "colab": {
     "base_uri": "https://localhost:8080/",
     "height": 774
    },
    "id": "BNXsANr7tp4B",
    "outputId": "7a8349af-4a68-4d77-dd3a-bf51a0d960a1"
   },
   "outputs": [
    {
     "name": "stderr",
     "output_type": "stream",
     "text": [
      "/usr/local/lib/python3.10/dist-packages/ipykernel/ipkernel.py:283: DeprecationWarning: `should_run_async` will not call `transform_cell` automatically in the future. Please pass the result to `transformed_cell` argument and any exception that happen during thetransform in `preprocessing_exc_tuple` in IPython 7.17 and above.\n",
      "  and should_run_async(code)\n"
     ]
    },
    {
     "data": {
      "image/png": "[encoded data removed]",
      "text/plain": [
       "<Figure size 1600x800 with 1 Axes>"
      ]
     },
     "metadata": {},
     "output_type": "display_data"
    }
   ],
   "source": [
    "import matplotlib.pyplot as plt\n",
    "\n",
    "product_polarity_sorted=pd.DataFrame(df1_lower.head().groupby('summary')['polarity_summary'].mean().sort_values(ascending=True))\n",
    "\n",
    "plt.figure(figsize=(16,8))\n",
    "plt.xlabel('Polarity')\n",
    "plt.ylabel('Articles')\n",
    "plt.title('Polarity of Articles')\n",
    "polarity_graph=plt.barh(np.arange(len(product_polarity_sorted.index)),product_polarity_sorted['polarity_summary'],color='purple',)\n",
    "\n",
    "# Writing product names on bar\n",
    "for bar,product in zip(polarity_graph,product_polarity_sorted.index):\n",
    "  plt.text(0.005,bar.get_y()+bar.get_width(),'{}'.format(product),va='center',fontsize=11,color='white')\n",
    "\n",
    "# Writing polarity values on graph\n",
    "\n",
    "for bar,polarity in zip(polarity_graph,product_polarity_sorted['polarity_summary']):\n",
    "  plt.text(bar.get_width()+0.001,bar.get_y()+bar.get_width(),'%.3f'%polarity,va='center',fontsize=11,color='black')\n",
    "\n",
    "plt.yticks([])\n",
    "plt.show()"
   ]
  },
  {
   "cell_type": "markdown",
   "id": "4248fd54",
   "metadata": {},
   "source": [
    "## Categorizing and Part-of-Speech (POS) tagging words\n",
    "- tagging each word as a noun, determiner, adjetive, adverb etc. and analyze its distribution"
   ]
  },
  {
   "cell_type": "code",
   "execution_count": 20,
   "id": "d583bb43",
   "metadata": {},
   "outputs": [],
   "source": [
    "# hepler function to perform POS tags\n",
    "def get_pos_tags(sentences, tagset='universal'):\n",
    "    \"\"\"\n",
    "    Get the part-of-speech (POS) tags for a list of sentences.\n",
    "\n",
    "    Args:\n",
    "        sentences (list): A list of sentences to be POS tagged.\n",
    "        tagset (str): The tagset to use for POS tagging (default is 'universal').\n",
    "\n",
    "    Returns:\n",
    "        DataFrame: A DataFrame containing the count of each POS tag for each sentence.\n",
    "                  Columns are in the order: 'ADJ', 'ADP', 'ADV', 'CONJ', 'DET', 'NOUN',\n",
    "                  'NUM', 'PRT', 'PRON', 'VERB', '.', 'X'.\n",
    "    \"\"\"\n",
    "    pos_tags_list = []\n",
    "    for sent in sentences:\n",
    "        # Tokenize the sentence into words and get the POS tags using nltk.pos_tag\n",
    "        pos_tags = Counter([j for i, j in nltk.pos_tag(word_tokenize(sent), tagset=tagset)])\n",
    "        pos_tags_list.append(pos_tags)\n",
    "\n",
    "    # Create the DataFrame directly from the list of dictionaries\n",
    "    df = pd.DataFrame(pos_tags_list).fillna(0).astype(int)\n",
    "\n",
    "    # Reorder the columns to match the desired order\n",
    "    df = df[['ADJ', 'ADP', 'ADV', 'CONJ', 'DET', 'NOUN', 'NUM', 'PRT', 'PRON', 'VERB', '.']]\n",
    "\n",
    "    return df\n",
    "\n",
    "# Identify the POS taggings for the 'article' variable\n",
    "article = df1_lower['article'].values\n",
    "df_article = get_pos_tags(article)\n",
    "\n",
    "# Identify the POS taggings for the 'summary' variable\n",
    "summary = df1_lower['summary'].values\n",
    "df_summary = get_pos_tags(summary)\n"
   ]
  },
  {
   "cell_type": "code",
   "execution_count": 21,
   "id": "4927bd32",
   "metadata": {},
   "outputs": [
    {
     "data": {
      "text/html": [
       "<div>\n",
       "<style scoped>\n",
       "    .dataframe tbody tr th:only-of-type {\n",
       "        vertical-align: middle;\n",
       "    }\n",
       "\n",
       "    .dataframe tbody tr th {\n",
       "        vertical-align: top;\n",
       "    }\n",
       "\n",
       "    .dataframe thead th {\n",
       "        text-align: right;\n",
       "    }\n",
       "</style>\n",
       "<table border=\"1\" class=\"dataframe\">\n",
       "  <thead>\n",
       "    <tr style=\"text-align: right;\">\n",
       "      <th></th>\n",
       "      <th>ADJ</th>\n",
       "      <th>ADP</th>\n",
       "      <th>ADV</th>\n",
       "      <th>CONJ</th>\n",
       "      <th>DET</th>\n",
       "      <th>NOUN</th>\n",
       "      <th>NUM</th>\n",
       "      <th>PRT</th>\n",
       "      <th>PRON</th>\n",
       "      <th>VERB</th>\n",
       "      <th>.</th>\n",
       "    </tr>\n",
       "  </thead>\n",
       "  <tbody>\n",
       "    <tr>\n",
       "      <th>count</th>\n",
       "      <td>100.000000</td>\n",
       "      <td>100.000000</td>\n",
       "      <td>100.000000</td>\n",
       "      <td>100.000000</td>\n",
       "      <td>100.000000</td>\n",
       "      <td>100.000000</td>\n",
       "      <td>100.000000</td>\n",
       "      <td>100.000000</td>\n",
       "      <td>100.000000</td>\n",
       "      <td>100.000000</td>\n",
       "      <td>100.000000</td>\n",
       "    </tr>\n",
       "    <tr>\n",
       "      <th>mean</th>\n",
       "      <td>59.660000</td>\n",
       "      <td>76.660000</td>\n",
       "      <td>28.420000</td>\n",
       "      <td>19.530000</td>\n",
       "      <td>65.580000</td>\n",
       "      <td>194.810000</td>\n",
       "      <td>17.440000</td>\n",
       "      <td>25.850000</td>\n",
       "      <td>34.580000</td>\n",
       "      <td>123.360000</td>\n",
       "      <td>82.140000</td>\n",
       "    </tr>\n",
       "    <tr>\n",
       "      <th>std</th>\n",
       "      <td>28.998161</td>\n",
       "      <td>37.911172</td>\n",
       "      <td>20.450571</td>\n",
       "      <td>12.255244</td>\n",
       "      <td>33.422964</td>\n",
       "      <td>89.786469</td>\n",
       "      <td>17.723647</td>\n",
       "      <td>14.987116</td>\n",
       "      <td>29.536206</td>\n",
       "      <td>67.273979</td>\n",
       "      <td>42.081455</td>\n",
       "    </tr>\n",
       "    <tr>\n",
       "      <th>min</th>\n",
       "      <td>17.000000</td>\n",
       "      <td>19.000000</td>\n",
       "      <td>2.000000</td>\n",
       "      <td>3.000000</td>\n",
       "      <td>15.000000</td>\n",
       "      <td>47.000000</td>\n",
       "      <td>0.000000</td>\n",
       "      <td>3.000000</td>\n",
       "      <td>2.000000</td>\n",
       "      <td>24.000000</td>\n",
       "      <td>27.000000</td>\n",
       "    </tr>\n",
       "    <tr>\n",
       "      <th>25%</th>\n",
       "      <td>36.000000</td>\n",
       "      <td>46.750000</td>\n",
       "      <td>15.750000</td>\n",
       "      <td>11.000000</td>\n",
       "      <td>42.000000</td>\n",
       "      <td>124.500000</td>\n",
       "      <td>8.000000</td>\n",
       "      <td>16.000000</td>\n",
       "      <td>16.750000</td>\n",
       "      <td>78.000000</td>\n",
       "      <td>50.500000</td>\n",
       "    </tr>\n",
       "    <tr>\n",
       "      <th>50%</th>\n",
       "      <td>56.500000</td>\n",
       "      <td>73.500000</td>\n",
       "      <td>25.000000</td>\n",
       "      <td>16.500000</td>\n",
       "      <td>55.500000</td>\n",
       "      <td>181.000000</td>\n",
       "      <td>13.500000</td>\n",
       "      <td>22.500000</td>\n",
       "      <td>29.000000</td>\n",
       "      <td>103.500000</td>\n",
       "      <td>75.000000</td>\n",
       "    </tr>\n",
       "    <tr>\n",
       "      <th>75%</th>\n",
       "      <td>74.250000</td>\n",
       "      <td>100.500000</td>\n",
       "      <td>33.000000</td>\n",
       "      <td>24.500000</td>\n",
       "      <td>82.000000</td>\n",
       "      <td>242.500000</td>\n",
       "      <td>21.000000</td>\n",
       "      <td>34.000000</td>\n",
       "      <td>42.250000</td>\n",
       "      <td>160.000000</td>\n",
       "      <td>108.500000</td>\n",
       "    </tr>\n",
       "    <tr>\n",
       "      <th>max</th>\n",
       "      <td>151.000000</td>\n",
       "      <td>199.000000</td>\n",
       "      <td>144.000000</td>\n",
       "      <td>64.000000</td>\n",
       "      <td>187.000000</td>\n",
       "      <td>432.000000</td>\n",
       "      <td>154.000000</td>\n",
       "      <td>102.000000</td>\n",
       "      <td>176.000000</td>\n",
       "      <td>385.000000</td>\n",
       "      <td>261.000000</td>\n",
       "    </tr>\n",
       "  </tbody>\n",
       "</table>\n",
       "</div>"
      ],
      "text/plain": [
       "              ADJ         ADP         ADV        CONJ         DET        NOUN  \\\n",
       "count  100.000000  100.000000  100.000000  100.000000  100.000000  100.000000   \n",
       "mean    59.660000   76.660000   28.420000   19.530000   65.580000  194.810000   \n",
       "std     28.998161   37.911172   20.450571   12.255244   33.422964   89.786469   \n",
       "min     17.000000   19.000000    2.000000    3.000000   15.000000   47.000000   \n",
       "25%     36.000000   46.750000   15.750000   11.000000   42.000000  124.500000   \n",
       "50%     56.500000   73.500000   25.000000   16.500000   55.500000  181.000000   \n",
       "75%     74.250000  100.500000   33.000000   24.500000   82.000000  242.500000   \n",
       "max    151.000000  199.000000  144.000000   64.000000  187.000000  432.000000   \n",
       "\n",
       "              NUM         PRT        PRON        VERB           .  \n",
       "count  100.000000  100.000000  100.000000  100.000000  100.000000  \n",
       "mean    17.440000   25.850000   34.580000  123.360000   82.140000  \n",
       "std     17.723647   14.987116   29.536206   67.273979   42.081455  \n",
       "min      0.000000    3.000000    2.000000   24.000000   27.000000  \n",
       "25%      8.000000   16.000000   16.750000   78.000000   50.500000  \n",
       "50%     13.500000   22.500000   29.000000  103.500000   75.000000  \n",
       "75%     21.000000   34.000000   42.250000  160.000000  108.500000  \n",
       "max    154.000000  102.000000  176.000000  385.000000  261.000000  "
      ]
     },
     "execution_count": 21,
     "metadata": {},
     "output_type": "execute_result"
    }
   ],
   "source": [
    "# Examine POS descriptive statistics on the article df\n",
    "df_article.describe()"
   ]
  },
  {
   "cell_type": "code",
   "execution_count": 22,
   "id": "ff71a352",
   "metadata": {},
   "outputs": [
    {
     "data": {
      "image/png": "[encoded data removed]",
      "text/plain": [
       "<Figure size 2000x400 with 12 Axes>"
      ]
     },
     "metadata": {},
     "output_type": "display_data"
    }
   ],
   "source": [
    "# Analyze POS tag distribution on the acrticle df\n",
    "plot_histograms(df_article, num_rows=2, num_cols=6)"
   ]
  },
  {
   "cell_type": "markdown",
   "id": "5fe8310f",
   "metadata": {},
   "source": [
    "## Check for Unknown Words, Symbols, Characters, and Special Characters\n"
   ]
  },
  {
   "cell_type": "code",
   "execution_count": 23,
   "id": "92941587",
   "metadata": {},
   "outputs": [
    {
     "name": "stdout",
     "output_type": "stream",
     "text": [
      "[==================================================] 100.0% 128.1/128.1MB downloaded\n",
      "Unique unknown words in 'article' column:\n",
      "{'°', '©', ' ', '\\xa0'}\n",
      "Unique unknown words in 'summary' column:\n",
      "{'\\n', '°', ' ', '\\xa0'}\n"
     ]
    }
   ],
   "source": [
    "#Check for Unknown Words(names, surnames, locations or misspelled words)\n",
    "def get_unique_unknown_words(tokenize_text, vocab):\n",
    "    unknown_words = {word for word in tokenize_text if word.lower() not in vocab}\n",
    "    return unknown_words\n",
    "\n",
    "# Download the pre-trained GloVe word vectors\n",
    "glove_vectors = api.load('glove-wiki-gigaword-100')\n",
    "\n",
    "# Get the vocabulary of the GloVe embeddings\n",
    "glove_vocab = set(glove_vectors.key_to_index.keys())\n",
    "\n",
    "# Get unique unknown words in 'article' column\n",
    "df1_lower['unknown_words_article'] = df1_lower['article'].apply(lambda x: get_unique_unknown_words(x, glove_vocab))\n",
    "\n",
    "# Get unique unknown words in 'summary' column\n",
    "df1_lower['unknown_words_summary'] = df1_lower['summary'].apply(lambda x: get_unique_unknown_words(x, glove_vocab))\n",
    "\n",
    "# Print the unique unknown words in 'article' column\n",
    "print(\"Unique unknown words in 'article' column:\")\n",
    "print(set.union(*df1_lower['unknown_words_article']))\n",
    "\n",
    "# Print the unique unknown words in 'summary' column\n",
    "print(\"Unique unknown words in 'summary' column:\")\n",
    "print(set.union(*df1_lower['unknown_words_summary']))"
   ]
  },
  {
   "cell_type": "markdown",
   "id": "f2b4338c",
   "metadata": {},
   "source": [
    "## Topic Modelling\n",
    "- Topic modeling is a natural language processing technique used to discover latent patterns or topics within a collection of documents. It is an unsupervised learning approach that aims to identify groups of words (topics) that frequently occur together in the documents, providing insights into the main themes or subjects discussed in the text corpus."
   ]
  },
  {
   "cell_type": "code",
   "execution_count": 24,
   "id": "4461a98a",
   "metadata": {},
   "outputs": [
    {
     "name": "stdout",
     "output_type": "stream",
     "text": [
      "Topic 1:\n",
      "he, his, said, had, as, him, by, with, after, from\n",
      "\n",
      "Topic 2:\n",
      "her, she, had, with, as, at, said, but, when, after\n",
      "\n",
      "Topic 3:\n",
      "said, from, were, with, be, cnn, at, an, are, people\n",
      "\n",
      "Topic 4:\n",
      "by, at, with, as, has, from, were, an, which, after\n",
      "\n",
      "Topic 5:\n",
      "are, we, as, they, with, have, at, this, you, be\n",
      "\n"
     ]
    }
   ],
   "source": [
    "# Initialise the count vectorizer\n",
    "tf_vectorizer = CountVectorizer(max_df=0.9, min_df=25, max_features=5000)\n",
    "\n",
    "# Apply the count vectorized method to the data\n",
    "tf = tf_vectorizer.fit_transform(df1_lower['article'])\n",
    "\n",
    "# Build the Document Term Matrix\n",
    "tf_feature_names = tf_vectorizer.get_feature_names_out()\n",
    "doc_term_matrix = pd.DataFrame(tf.toarray(), columns=list(tf_feature_names))\n",
    "\n",
    "# Perform Topic Modeling using Latent Dirichlet Allocation (LDA)\n",
    "num_topics = 5\n",
    "lda_model = LatentDirichletAllocation(n_components=num_topics, random_state=42)\n",
    "lda_output = lda_model.fit_transform(tf)\n",
    "\n",
    "# Print the top words for each topic\n",
    "def print_top_words(model, feature_names, n_top_words):\n",
    "    for topic_idx, topic in enumerate(model.components_):\n",
    "        print(f\"Topic {topic_idx + 1}:\")\n",
    "        print(\", \".join([feature_names[i] for i in topic.argsort()[:-n_top_words - 1:-1]]))\n",
    "        print()\n",
    "\n",
    "n_top_words = 10\n",
    "print_top_words(lda_model, tf_feature_names, n_top_words)"
   ]
  },
  {
   "cell_type": "markdown",
   "id": "a86e37f5",
   "metadata": {},
   "source": [
    "## Visualising topic modelling"
   ]
  },
  {
   "cell_type": "code",
   "execution_count": 25,
   "id": "3b23e8a8",
   "metadata": {},
   "outputs": [
    {
     "data": {
      "image/png": "[encoded data removed]",
      "text/plain": [
       "<Figure size 1000x600 with 1 Axes>"
      ]
     },
     "metadata": {},
     "output_type": "display_data"
    }
   ],
   "source": [
    "def plot_document_topic_distribution(model_output):\n",
    "    # Normalize the document-topic distribution\n",
    "    normalized_output = model_output / model_output.sum(axis=1)[:, np.newaxis]\n",
    "\n",
    "    # Create a bar plot to visualize the document-topic distribution\n",
    "    plt.figure(figsize=(10, 6))\n",
    "    topics = [f'Topic {i}' for i in range(lda_model.n_components)]\n",
    "    for i in range(normalized_output.shape[0]):\n",
    "        plt.bar(topics, normalized_output[i], alpha=0.7)\n",
    "    plt.xlabel('Topics')\n",
    "    plt.ylabel('Normalized Proportion')\n",
    "    plt.title('Document-Topic Distribution')\n",
    "    plt.show()\n",
    "\n",
    "# Visualize the document-topic distribution\n",
    "plot_document_topic_distribution(lda_output)\n"
   ]
  },
  {
   "cell_type": "code",
   "execution_count": 26,
   "id": "c64a8d1b",
   "metadata": {},
   "outputs": [
    {
     "name": "stderr",
     "output_type": "stream",
     "text": [
      "C:\\Users\\ARU PC\\AppData\\Local\\Temp\\ipykernel_24856\\3457986989.py:11: UserWarning: FixedFormatter should only be used together with FixedLocator\n",
      "  ax.set_yticklabels(top_features)\n",
      "C:\\Users\\ARU PC\\AppData\\Local\\Temp\\ipykernel_24856\\3457986989.py:11: UserWarning: FixedFormatter should only be used together with FixedLocator\n",
      "  ax.set_yticklabels(top_features)\n",
      "C:\\Users\\ARU PC\\AppData\\Local\\Temp\\ipykernel_24856\\3457986989.py:11: UserWarning: FixedFormatter should only be used together with FixedLocator\n",
      "  ax.set_yticklabels(top_features)\n",
      "C:\\Users\\ARU PC\\AppData\\Local\\Temp\\ipykernel_24856\\3457986989.py:11: UserWarning: FixedFormatter should only be used together with FixedLocator\n",
      "  ax.set_yticklabels(top_features)\n",
      "C:\\Users\\ARU PC\\AppData\\Local\\Temp\\ipykernel_24856\\3457986989.py:11: UserWarning: FixedFormatter should only be used together with FixedLocator\n",
      "  ax.set_yticklabels(top_features)\n"
     ]
    },
    {
     "data": {
      "image/png": "[encoded data removed]",
      "text/plain": [
       "<Figure size 800x1000 with 5 Axes>"
      ]
     },
     "metadata": {},
     "output_type": "display_data"
    }
   ],
   "source": [
    "#Visualize the top words for each topic\n",
    "def plot_top_words(model, feature_names, n_top_words):\n",
    "    fig, axes = plt.subplots(nrows=model.n_components, ncols=1, figsize=(8, 2 * model.n_components),\n",
    "                             sharex=True)\n",
    "    for topic_idx, topic in enumerate(model.components_):\n",
    "        top_features_idx = topic.argsort()[:-n_top_words - 1:-1]\n",
    "        top_features = [feature_names[i] for i in top_features_idx]\n",
    "        weights = topic[top_features_idx]\n",
    "        ax = axes[topic_idx]\n",
    "        ax.barh(top_features, weights, height=0.7)\n",
    "        ax.set_yticklabels(top_features)\n",
    "        ax.invert_yaxis()\n",
    "        ax.set_xlabel('Weight')\n",
    "        ax.set_title(f'Topic {topic_idx}')\n",
    "    plt.tight_layout()\n",
    "    plt.show()\n",
    "\n",
    "# Visualize the top words for each topic\n",
    "n_top_words = 10\n",
    "plot_top_words(lda_model, tf_feature_names, n_top_words)"
   ]
  },
  {
   "cell_type": "code",
   "execution_count": null,
   "id": "3dc847ce",
   "metadata": {},
   "outputs": [],
   "source": []
  }
 ],
 "metadata": {
  "accelerator": "GPU",
  "colab": {
   "gpuType": "T4",
   "provenance": []
  },
  "kernelspec": {
   "display_name": "Python 3 (ipykernel)",
   "language": "python",
   "name": "python3"
  },
  "language_info": {
   "codemirror_mode": {
    "name": "ipython",
    "version": 3
   },
   "file_extension": ".py",
   "mimetype": "text/x-python",
   "name": "python",
   "nbconvert_exporter": "python",
   "pygments_lexer": "ipython3",
   "version": "3.9.13"
  }
 },
 "nbformat": 4,
 "nbformat_minor": 5
}
